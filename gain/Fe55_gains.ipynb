{
 "cells": [
  {
   "cell_type": "code",
   "execution_count": 1,
   "metadata": {
    "collapsed": false
   },
   "outputs": [
    {
     "data": {
      "text/html": [
       "<style>.container { width:90% !important; }</style>"
      ],
      "text/plain": [
       "<IPython.core.display.HTML object>"
      ]
     },
     "execution_count": 1,
     "metadata": {},
     "output_type": "execute_result"
    }
   ],
   "source": [
    "from IPython.core.display import HTML\n",
    "HTML(\"<style>.container { width:90% !important; }</style>\")"
   ]
  },
  {
   "cell_type": "code",
   "execution_count": 3,
   "metadata": {
    "collapsed": false
   },
   "outputs": [],
   "source": [
    "import new_functions as fn\n",
    "fn = reload(fn)\n",
    "import functions as fn2\n",
    "fn2 = reload(fn2)"
   ]
  },
  {
   "cell_type": "code",
   "execution_count": 4,
   "metadata": {
    "collapsed": false
   },
   "outputs": [],
   "source": [
    "import os\n",
    "import numpy as np\n",
    "import lsst.daf.persistence as dafPersist\n",
    "import lsst.afw.display.ds9 as ds9\n",
    "# import lsst.afw.display as afwDisplay\n",
    "import lsst.afw.image as afwImage\n",
    "\n",
    "import lsst.afw.geom as afwGeom\n",
    "import lsst.afw.detection as afwDetect\n",
    "import pyfits as pf\n",
    "%matplotlib inline\n",
    "import scipy\n",
    "import scipy.ndimage as ndimage\n",
    "import pylab as plt\n",
    "import sys\n",
    "\n",
    "N_AMPS = 16\n",
    "HISTMIN = -1000\n",
    "HISTMAX = 10000\n",
    "NBINS = HISTMAX - HISTMIN + 1"
   ]
  },
  {
   "cell_type": "code",
   "execution_count": null,
   "metadata": {
    "collapsed": false
   },
   "outputs": [],
   "source": [
    "# files = fn.GetFiles('/Users/mfisherlevine/Desktop/fe55_113-03/','*.fits')\n",
    "files = fn.GetFiles('/Users/mfisherlevine/Downloads/113-03/fe55/15041/','*fe55_bias*.fits')\n",
    "\n",
    "print len(files)"
   ]
  },
  {
   "cell_type": "code",
   "execution_count": null,
   "metadata": {
    "collapsed": true
   },
   "outputs": [],
   "source": []
  },
  {
   "cell_type": "code",
   "execution_count": null,
   "metadata": {
    "collapsed": false
   },
   "outputs": [],
   "source": [
    "exp_total = 0.\n",
    "for filenum, filename in enumerate(files):\n",
    "#     if filenum%1==0: print 'Processing file %s of %s'%(filenum, len(files)); sys.stdout.flush()\n",
    "    f = pf.open(filename)\n",
    "    exptime = f[0].header['EXPTIME']\n",
    "    exp_total += exptime\n",
    "    print 'Exptime = %s s for %s'%(exptime, filename)\n",
    "    f.close()\n",
    "print 'Total exposure time = %s hours'%(exp_total/3600.)"
   ]
  },
  {
   "cell_type": "code",
   "execution_count": null,
   "metadata": {
    "collapsed": false
   },
   "outputs": [],
   "source": [
    "hists = [np.zeros(NBINS, dtype=np.float64) for _ in range(N_AMPS+1)]\n",
    "for filenum, filename in enumerate(files):\n",
    "    if filenum%10==0: print 'Processing file %s of %s'%(filenum, len(files)); sys.stdout.flush()\n",
    "    f = pf.open(filename)\n",
    "    for amp in xrange(1,1+N_AMPS):\n",
    "        n_rows, n_cols = f[amp].data.shape\n",
    "        data = f[amp].data[:,523:]\n",
    "#         ds9.mtv(afwImage.ImageF(data))\n",
    "#         break\n",
    "        if (amp==5) and (filenum==0):\n",
    "            print 'sent image'\n",
    "            ds9.mtv(afwImage.ImageF(f[amp].data[:,10:]))\n",
    "        oscan = np.median(f[amp].data[:,523:n_cols])\n",
    "#         data -= oscan\n",
    "#         fn2.ShowSpot(data[:,1:513], half_stretch=3)\n",
    "#         break\n",
    "        hist_vals = ndimage.histogram(data, HISTMIN, HISTMAX, NBINS)\n",
    "        hists[amp] += hist_vals\n",
    "    f.close()"
   ]
  },
  {
   "cell_type": "code",
   "execution_count": null,
   "metadata": {
    "collapsed": false
   },
   "outputs": [],
   "source": [
    "for amp in range(1,N_AMPS+1):\n",
    "    fig = plt.figure(figsize=(10,4))\n",
    "    ax = plt.subplot(111)\n",
    "    xpoints = np.linspace(HISTMIN, HISTMAX, NBINS)\n",
    "#     plt.semilogy(xpoints, hists[amp])\n",
    "    plt.step(xpoints, hists[amp])\n",
    "#     print hists[amp][fn2.indexOfMax(hists[amp])-30:fn2.indexOfMax(hists[amp])+10]\n",
    "#     break\n",
    "    ax.semilogy()\n",
    "#     plt.xlim((-50,50))\n",
    "#     plt.xlim((-50,1000))\n",
    "    plt.xlim(fn2.indexOfMax(hists[amp])+HISTMIN - 100, fn2.indexOfMax(hists[amp])+HISTMIN + 30)\n",
    "    plt.title('Amp %s'%(amp))\n",
    "    plt.show()"
   ]
  },
  {
   "cell_type": "code",
   "execution_count": null,
   "metadata": {
    "collapsed": true
   },
   "outputs": [],
   "source": []
  },
  {
   "cell_type": "raw",
   "metadata": {},
   "source": [
    "Now we try doing this just looking at pixels over an n_sigma clipped mean threshold"
   ]
  },
  {
   "cell_type": "code",
   "execution_count": null,
   "metadata": {
    "collapsed": false
   },
   "outputs": [],
   "source": [
    "hists = [np.zeros(NBINS, dtype=np.float64) for _ in range(N_AMPS+1)]\n",
    "\n",
    "n_sigma_thr = 6.\n",
    "\n",
    "for filenum, filename in enumerate(files):\n",
    "    if filenum%10==0: print 'Processing file %s of %s'%(filenum, len(files)); sys.stdout.flush()\n",
    "    f = pf.open(filename)\n",
    "    for amp in xrange(1,1+N_AMPS):\n",
    "        n_rows, n_cols = f[amp].data.shape\n",
    "        data = f[amp].data[:,1:513]\n",
    "        oscan = np.median(f[amp].data[:,513:n_cols])\n",
    "        data -= oscan\n",
    "        mean, sigma = fn2.getClippedMeanandStddev(data,nsig=3)\n",
    "        hist_vals = ndimage.histogram(data[data >= mean + (n_sigma_thr*sigma)], HISTMIN, HISTMAX, NBINS)\n",
    "        hists[amp] += hist_vals\n",
    "    f.close()"
   ]
  },
  {
   "cell_type": "code",
   "execution_count": null,
   "metadata": {
    "collapsed": false
   },
   "outputs": [],
   "source": [
    "fig = plt.figure(figsize=(10,4))\n",
    "\n",
    "for amp in range(1,N_AMPS+1):\n",
    "    xpoints = np.linspace(HISTMIN, HISTMAX, NBINS)\n",
    "    plt.semilogy(xpoints, hists[amp])\n",
    "    plt.xlim((0,600))\n",
    "#     plt.title('Amp %s'%(amp-1))\n",
    "#     plt.show()"
   ]
  },
  {
   "cell_type": "raw",
   "metadata": {
    "collapsed": true
   },
   "source": [
    "Still doesn't look any good at all - now we try with afwDetect, and sum the charge in the tracks"
   ]
  },
  {
   "cell_type": "code",
   "execution_count": null,
   "metadata": {
    "collapsed": false
   },
   "outputs": [],
   "source": [
    "# hists = [np.zeros(NBINS, dtype=np.float64) for _ in range(N_AMPS+1)]\n",
    "# n_sigma_thr = 6.\n",
    "\n",
    "# THRESHOLD = 40\n",
    "# N_PIX_MIN = 1\n",
    "# GROW = 1\n",
    "# ISOTROPIC = True\n",
    "# VERBOSE = False\n",
    "\n",
    "# fluxes = [[] for _ in range(N_AMPS)]\n",
    "\n",
    "# for filenum, filename in enumerate(files):\n",
    "#     if filenum%10==0: print 'Processing file %s of %s'%(filenum, len(files)); sys.stdout.flush()\n",
    "#     f = pf.open(filename)\n",
    "#     for amp in xrange(1,1+N_AMPS):\n",
    "#         n_rows, n_cols = f[amp].data.shape\n",
    "#         data = f[amp].data[:,1:513]\n",
    "#         oscan = np.median(f[amp].data[:,513:n_cols])\n",
    "#         data -= oscan\n",
    "        \n",
    "        \n",
    "#         image = afwImage.ImageF(data)\n",
    "#         maskedImg = afwImage.MaskedImageF(image)\n",
    "#         exposure = afwImage.ExposureF(maskedImg)\n",
    "\n",
    "#         threshold = afwDetect.Threshold(THRESHOLD, afwDetect.Threshold.VALUE)\n",
    "#         footPrintSet = afwDetect.FootprintSet(exposure.getMaskedImage(), threshold, \"DETECTED\", N_PIX_MIN)\n",
    "#         footPrintSet = afwDetect.FootprintSet(footPrintSet, GROW, ISOTROPIC)\n",
    "\n",
    "#         footPrints = footPrintSet.getFootprints()\n",
    "#         if VERBOSE: print \"Found %s footprints in amp %s of file %s\"%(footPrints.size(), amp, filename)\n",
    "# #         total_found += footPrints.size()\n",
    "\n",
    "# #         if footPrints.size() >= 1000: # files with bright defects cause all sorts of problems\n",
    "# #             print \"Bad file - skipping amp %s in %s\"%(amp, filename)\n",
    "# #             continue\n",
    "\n",
    "#         for pointnum, footprint in enumerate(footPrints):\n",
    "#             flux = fn2.SumFootprintPixels(footprint,image)\n",
    "#             fluxes[amp-1].append(flux)\n",
    "#     f.close()"
   ]
  },
  {
   "cell_type": "code",
   "execution_count": null,
   "metadata": {
    "collapsed": true
   },
   "outputs": [],
   "source": []
  },
  {
   "cell_type": "code",
   "execution_count": null,
   "metadata": {
    "collapsed": false,
    "scrolled": true
   },
   "outputs": [],
   "source": [
    "hists = [np.zeros(NBINS, dtype=np.float64) for _ in range(N_AMPS+1)]\n",
    "\n",
    "n_sigma_thr = 4.\n",
    "N_PIX_MIN = 2\n",
    "GROW = 0\n",
    "ISOTROPIC = True\n",
    "VERBOSE = False\n",
    "\n",
    "thrs = []\n",
    "\n",
    "fluxes = [[] for _ in range(N_AMPS)]\n",
    "\n",
    "for filenum, filename in enumerate(files):\n",
    "    if filenum%10==0: print 'Processing file %s of %s'%(filenum, len(files)); sys.stdout.flush()\n",
    "    f = pf.open(filename)\n",
    "    for amp in xrange(1,1+N_AMPS):\n",
    "        n_rows, n_cols = f[amp].data.shape\n",
    "        data = f[amp].data[:,1:513]\n",
    "        oscan = np.median(f[amp].data[:,513:n_cols])\n",
    "        data -= oscan\n",
    "        \n",
    "        image = afwImage.ImageF(data)\n",
    "        maskedImg = afwImage.MaskedImageF(image)\n",
    "        exposure = afwImage.ExposureF(maskedImg)\n",
    "\n",
    "        mean, sigma = fn2.getClippedMeanandStddev(data, nsig=5)\n",
    "        THRESHOLD = mean + (n_sigma_thr*sigma)\n",
    "#         print 'Threshold = %s'%THRESHOLD\n",
    "        thrs.append(THRESHOLD)\n",
    "        \n",
    "        threshold = afwDetect.Threshold(THRESHOLD, afwDetect.Threshold.VALUE)\n",
    "        footPrintSet = afwDetect.FootprintSet(exposure.getMaskedImage(), threshold, \"DETECTED\", N_PIX_MIN)\n",
    "        footPrintSet = afwDetect.FootprintSet(footPrintSet, GROW, ISOTROPIC)\n",
    "\n",
    "        footPrints = footPrintSet.getFootprints()\n",
    "        if VERBOSE: print \"Found %s footprints in amp %s of file %s\"%(footPrints.size(), amp, filename)\n",
    "#         total_found += footPrints.size()\n",
    "\n",
    "#         if footPrints.size() >= 1000: # files with bright defects cause all sorts of problems\n",
    "#             print \"Bad file - skipping amp %s in %s\"%(amp, filename)\n",
    "#             continue\n",
    "\n",
    "        for pointnum, footprint in enumerate(footPrints):\n",
    "            flux = fn2.SumFootprintPixels(footprint,image)\n",
    "            fluxes[amp-1].append(flux)\n",
    "    f.close()"
   ]
  },
  {
   "cell_type": "code",
   "execution_count": null,
   "metadata": {
    "collapsed": true
   },
   "outputs": [],
   "source": []
  },
  {
   "cell_type": "code",
   "execution_count": null,
   "metadata": {
    "collapsed": true
   },
   "outputs": [],
   "source": []
  },
  {
   "cell_type": "code",
   "execution_count": null,
   "metadata": {
    "collapsed": true
   },
   "outputs": [],
   "source": []
  },
  {
   "cell_type": "code",
   "execution_count": null,
   "metadata": {
    "collapsed": true
   },
   "outputs": [],
   "source": []
  },
  {
   "cell_type": "code",
   "execution_count": null,
   "metadata": {
    "collapsed": true
   },
   "outputs": [],
   "source": []
  },
  {
   "cell_type": "code",
   "execution_count": null,
   "metadata": {
    "collapsed": false
   },
   "outputs": [],
   "source": [
    "from scipy.signal import argrelmax \n",
    "from scipy.signal import find_peaks_cwt"
   ]
  },
  {
   "cell_type": "code",
   "execution_count": null,
   "metadata": {
    "collapsed": true
   },
   "outputs": [],
   "source": [
    "def ThresholdList(input_list, threshold, default_value=0, return_as_array=False):\n",
    "    if return_as_array: return np.asarray([val if val>=threshold else default_value for val in input_list])\n",
    "    return [val if val>=threshold else default_value for val in input_list]"
   ]
  },
  {
   "cell_type": "code",
   "execution_count": null,
   "metadata": {
    "collapsed": false
   },
   "outputs": [],
   "source": [
    "HISTMIN = 200.\n",
    "HISTMAX = 800.\n",
    "NBINS = HISTMAX - HISTMIN + 1\n",
    "\n",
    "xpoints = np.linspace(HISTMIN, HISTMAX, NBINS)\n",
    "print 'Binsize = %s'%(xpoints[1]-xpoints[0])\n",
    "\n",
    "for amp in range(N_AMPS):\n",
    "    fig = plt.figure(figsize=(12,4))\n",
    "    \n",
    "    histvals = ndimage.histogram(np.asarray(fluxes[amp]),HISTMIN, HISTMAX, NBINS)\n",
    "#     peaks = find_peaks_cwt(histvals, widths=np.array([10]))#, wavelet=scipy.signal.wavelets.morlet)\n",
    "#     peaks = argrelmax(ThresholdList(hist_vals, 0.1*max(hist_vals),return_as_array=True), order=20)\n",
    "    peaks = argrelmax(np.asarray([val if val>=0.1*max(hist_vals) else 0 for val in histvals]), order=20)\n",
    "#     for a,b in zip(his\\t_vals, ThresholdList(hist_vals, 0.1*max(hist_vals),return_as_array=True)):\n",
    "#         print a,b\n",
    "    \n",
    "    print peaks\n",
    "    \n",
    "    plt.step(xpoints, histvals)\n",
    "    plt.plot([peak + HISTMIN for peak in peaks], [2000. for _ in range(len(peaks))], 'o')\n",
    "    #     plt.semilogy(xpoints, histvals)\n",
    "#     plt.xlim((-200,12000))\n",
    "    plt.title('THR = %s, GROW = %s'%(THRESHOLD, GROW))\n",
    "    plt.show()\n"
   ]
  },
  {
   "cell_type": "code",
   "execution_count": null,
   "metadata": {
    "collapsed": true
   },
   "outputs": [],
   "source": []
  },
  {
   "cell_type": "code",
   "execution_count": null,
   "metadata": {
    "collapsed": false
   },
   "outputs": [],
   "source": [
    "def FitGaussian(binned_data, std_dev, initial_pars=None, return_fitted_points=False, n_fitted_points=1000, print_values=False, plot=False):\n",
    "    '''Data should be histogrammed, with the form data[hist_vals,]\n",
    "    initial_pars takes the form [A, mu, sigma]'''\n",
    "    from scipy.optimize import curve_fit\n",
    "    def gauss(x, *p):\n",
    "        A, mu, sigma = p\n",
    "        return A*np.exp(-(x-mu)**2/(2.*sigma**2))\n",
    "    \n",
    "    bin_centres = binned_data[:,0]\n",
    "    bin_values  = binned_data[:,1]\n",
    "\n",
    "    if initial_pars is None:\n",
    "        max_bin_value = max(binned_data[:,1])\n",
    "        max_bin = np.where(binned_data[:,1]==max_bin_value)[0][0]\n",
    "        max_bin_center = binned_data[max_bin,0]\n",
    "        a0     = max_bin_value\n",
    "        mu0    = max_bin_center\n",
    "        sigma0 = std_dev\n",
    "        initial_pars = [a0, mu0, sigma0]\n",
    "\n",
    "    if print_values: print 'Initial parameters = %.2f, %.2f, %.2f'%(initial_pars[0],initial_pars[1],initial_pars[2])\n",
    "    coeff, var_matrix = curve_fit(gauss, bin_centres, bin_values, p0=initial_pars, sigma=[np.sqrt(_) if _>=1 else 1 for _ in bin_values])\n",
    "    if print_values: print 'Fitted parameters  = %.2f, %.2f, %.2f'%(coeff[0],coeff[1],coeff[2])\n",
    "    \n",
    "    if print_values:\n",
    "        print 'Mean  = %.5f +/- %.6f'%(coeff[1], var_matrix[1,1])\n",
    "        print 'Sigma = %.5f +/- %.6f'%(coeff[2], var_matrix[2,2])\n",
    "\n",
    "    xpoints = np.linspace(min(bin_centres), max(bin_centres),n_fitted_points)\n",
    "    fitted_points = gauss(xpoints, *coeff)\n",
    "    \n",
    "    if plot:\n",
    "        plt.plot(binned_data[:,0], binned_data[:,1], 'x')\n",
    "        plt.plot(xpoints, fitted_points, label='Fit')\n",
    "        plt.show()\n",
    "    \n",
    "    if return_fitted_points:\n",
    "        return xpoints, fitted_points, coeff\n",
    "    return coeff\n",
    "\n",
    "def FitDoubleGaussian(binned_data, std_dev, second_gaus_offset=10, initial_pars=None, return_fitted_points=False, n_fitted_points=1000, print_values=False, plot=False):\n",
    "    '''Data should be histogrammed, with the form data[hist_vals,]\n",
    "    initial_pars takes the form [A, mu, sigma]'''\n",
    "    from scipy.optimize import curve_fit\n",
    "    def double_gauss(x, *p):\n",
    "        A, mu, sigma, A2, mu2, sigma2 = p\n",
    "        return A*np.exp(-(x-mu)**2/(2.*sigma**2)) + A2*np.exp(-(x-mu2)**2/(2.*sigma2**2))\n",
    "    \n",
    "    bin_centres = binned_data[:,0]\n",
    "    bin_values  = binned_data[:,1]\n",
    "\n",
    "    if initial_pars is None:\n",
    "        max_bin_value = max(binned_data[:,1])\n",
    "        max_bin = np.where(binned_data[:,1]==max_bin_value)[0][0]\n",
    "        max_bin_center = binned_data[max_bin,0]\n",
    "        a0     = max_bin_value\n",
    "        mu0    = max_bin_center\n",
    "        sigma0 = std_dev\n",
    "        a20    = max_bin_value * 0.12\n",
    "        mu20   = mu0 + second_gaus_offset\n",
    "        sigma20 = sigma0\n",
    "        initial_pars = [a0, mu0, sigma0, a20, mu20, sigma20]\n",
    "\n",
    "    if print_values: print 'Initial parameters = %.2f, %.2f, %.2f, %.2f, %.2f, %.2f'%(initial_pars[0],initial_pars[1],initial_pars[2],initial_pars[3],initial_pars[4],initial_pars[5])\n",
    "    coeff, var_matrix = curve_fit(double_gauss, bin_centres, bin_values, p0=initial_pars, sigma=[np.sqrt(_) if _>=1 else 1 for _ in bin_values])\n",
    "    if print_values: print 'Fitted parameters  = %.2f, %.2f, %.2f, %.2f, %.2f, %.2f'%(coeff[0],coeff[1],coeff[2],coeff[3],coeff[4],coeff[5])\n",
    "    \n",
    "    if print_values:\n",
    "        print 'Mean  = %.5f +/- %.6f'%(coeff[1], var_matrix[1,1])\n",
    "        print 'Sigma = %.5f +/- %.6f'%(coeff[2], var_matrix[2,2])\n",
    "\n",
    "    xpoints = np.linspace(bin_centres[0], bin_centres[-1],n_fitted_points)\n",
    "    fitted_points = double_gauss(xpoints, *coeff)\n",
    "    \n",
    "    if plot:\n",
    "        plt.plot(binned_data[:,0], binned_data[:,1], 'x')\n",
    "        plt.plot(xpoints, fitted_points, '-r', label='Fit')\n",
    "        plt.show()\n",
    "    \n",
    "    if return_fitted_points:\n",
    "        return xpoints, fitted_points, coeff\n",
    "    return coeff\n",
    "\n",
    "    "
   ]
  },
  {
   "cell_type": "code",
   "execution_count": null,
   "metadata": {
    "collapsed": true
   },
   "outputs": [],
   "source": []
  },
  {
   "cell_type": "code",
   "execution_count": null,
   "metadata": {
    "collapsed": false
   },
   "outputs": [],
   "source": [
    "HISTMIN = 200.\n",
    "HISTMAX = 800.\n",
    "NBINS = HISTMAX - HISTMIN + 1\n",
    "\n",
    "xpoints = np.linspace(HISTMIN, HISTMAX, NBINS)\n",
    "print 'Binsize = %s'%(xpoints[1]-xpoints[0])\n",
    "\n",
    "k_alpha_peaks = []\n",
    "k_beta_peaks = []\n",
    "\n",
    "for amp in range(N_AMPS):\n",
    "    fig = plt.figure(figsize=(12,4))\n",
    "    ax = plt.subplot(111)\n",
    "    \n",
    "    histvals = ndimage.histogram(np.asarray(fluxes[amp]),HISTMIN, HISTMAX, NBINS)\n",
    "#     peaks = argrelmax(np.asarray([val if val>=0.1*max(hist_vals) else 0 for val in histvals]), order=20)\n",
    "    bin_centers = xpoints + ((xpoints[1]-xpoints[0])/2.)\n",
    "    \n",
    "    fit_data = np.ndarray((len(histvals),2))\n",
    "    fit_data[:,1] = histvals\n",
    "    fit_data[:,0] = bin_centers\n",
    "    \n",
    "    xpoints_fit, fitted_points, fit_pars = FitDoubleGaussian(fit_data, 8., second_gaus_offset=50, print_values=True, plot=False, return_fitted_points=True)\n",
    "#     xpoints_fit, fitted_points, fit_pars = FitGaussian(fit_data, 8., print_values=True, plot=False, return_fitted_points=True)\n",
    "    k_alpha_peaks.append(fit_pars[1])\n",
    "    k_beta_peaks.append(fit_pars[4])\n",
    "\n",
    "    plt.step(xpoints, histvals)\n",
    "    plt.plot(xpoints_fit-1, fitted_points, '-r')\n",
    "\n",
    "    ax.set_yscale(\"log\", nonposy='clip')\n",
    "\n",
    "\n",
    "#     plt.plot([peak + HISTMIN for peak in peaks], [2000. for _ in range(len(peaks))], 'o')\n",
    "    plt.xlim((450,750))\n",
    "    plt.ylim((1,max(histvals)+500))\n",
    "\n",
    "    plt.title('Amp %s, THR = %s, GROW = %s'%(amp, THRESHOLD, GROW))\n",
    "    plt.show()\n",
    "#     break\n"
   ]
  },
  {
   "cell_type": "code",
   "execution_count": null,
   "metadata": {
    "collapsed": false
   },
   "outputs": [],
   "source": [
    "K_ALPHA_1   = 5898.75\n",
    "K_ALPHA_2   = 5887.65\n",
    "K_ALPHA_NOM = ((1.97561*K_ALPHA_1) + (K_ALPHA_2)) / (2.97561) # weighting by the ratio of the two lines\n",
    "K_BETA      = 6490.45\n",
    "DELTA_E     = K_ALPHA_NOM - K_BETA"
   ]
  },
  {
   "cell_type": "code",
   "execution_count": null,
   "metadata": {
    "collapsed": false
   },
   "outputs": [],
   "source": [
    "temp_in_kelvin = 173.\n",
    "PAIR_ENERGY = 3.73 - (0.000131*temp_in_kelvin)\n",
    "electrons_per_K_ALPHA = K_ALPHA_NOM/PAIR_ENERGY\n",
    "electrons_per_E_DELTA = (DELTA_E/PAIR_ENERGY)\n",
    "print 'Pair creation energy = %s'%PAIR_ENERGY\n",
    "print '# e- per K_alpha hit = %s'%(electrons_per_K_ALPHA)"
   ]
  },
  {
   "cell_type": "code",
   "execution_count": null,
   "metadata": {
    "collapsed": false
   },
   "outputs": [],
   "source": [
    "gains = []\n",
    "for amp in range(N_AMPS):\n",
    "    gain = electrons_per_K_ALPHA/k_alpha_peaks[amp]\n",
    "    gains.append(gain)\n",
    "    print 'Amp %2i gain = %.3f'%(amp, gain)\n",
    "\n",
    "print '\\n*********\\n'\n",
    "\n",
    "gains_delta_e = []\n",
    "for amp in range(N_AMPS):\n",
    "    gain = electrons_per_E_DELTA/(k_alpha_peaks[amp] - k_beta_peaks[amp])\n",
    "    gains_delta_e.append(gain)\n",
    "    print 'Amp %2i gain = %.3f'%(amp, gain)"
   ]
  },
  {
   "cell_type": "code",
   "execution_count": null,
   "metadata": {
    "collapsed": false
   },
   "outputs": [],
   "source": [
    "plt.plot(gains, 'o')\n",
    "plt.plot(gains_delta_e, 'o')\n",
    "plt.show()\n",
    "plt.plot(gains, gains_delta_e, 'x')"
   ]
  },
  {
   "cell_type": "code",
   "execution_count": null,
   "metadata": {
    "collapsed": true
   },
   "outputs": [],
   "source": []
  },
  {
   "cell_type": "code",
   "execution_count": null,
   "metadata": {
    "collapsed": false
   },
   "outputs": [],
   "source": [
    "BNL_amp_gains = [2.83, 2.79, 2.87, 2.81, 2.83,2.82, 2.83, 2.96, 2.75, 2.70, 2.72, 2.69, 2.74, 2.74, 2.69, 2.74]\n",
    "plt.plot(BNL_amp_gains, 'o')\n",
    "plt.show()\n",
    "ys, xs, patches = plt.hist(BNL_amp_gains, bins=5)"
   ]
  },
  {
   "cell_type": "code",
   "execution_count": null,
   "metadata": {
    "collapsed": false
   },
   "outputs": [],
   "source": [
    "plt.plot(BNL_amp_gains, gains, 'o')"
   ]
  },
  {
   "cell_type": "code",
   "execution_count": null,
   "metadata": {
    "collapsed": true
   },
   "outputs": [],
   "source": []
  }
 ],
 "metadata": {
  "anaconda-cloud": {},
  "kernelspec": {
   "display_name": "Python [Root]",
   "language": "python",
   "name": "Python [Root]"
  },
  "language_info": {
   "codemirror_mode": {
    "name": "ipython",
    "version": 2
   },
   "file_extension": ".py",
   "mimetype": "text/x-python",
   "name": "python",
   "nbconvert_exporter": "python",
   "pygments_lexer": "ipython2",
   "version": "2.7.11"
  }
 },
 "nbformat": 4,
 "nbformat_minor": 0
}
