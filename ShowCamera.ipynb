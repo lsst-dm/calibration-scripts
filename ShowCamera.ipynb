{
 "cells": [
  {
   "cell_type": "code",
   "execution_count": 1,
   "metadata": {
    "collapsed": false
   },
   "outputs": [],
   "source": [
    "import lsst.afw.image as afwImage"
   ]
  },
  {
   "cell_type": "code",
   "execution_count": 2,
   "metadata": {
    "collapsed": false
   },
   "outputs": [],
   "source": [
    "import lsst.obs.decam as obs_decam"
   ]
  },
  {
   "cell_type": "raw",
   "metadata": {},
   "source": []
  },
  {
   "cell_type": "code",
   "execution_count": 3,
   "metadata": {
    "collapsed": false
   },
   "outputs": [],
   "source": [
    "import os\n",
    "import numpy as np\n",
    "import lsst.daf.persistence as dafPersist\n",
    "import lsst.afw.display.ds9 as ds9\n",
    "import lsst.afw.geom as afwGeom\n",
    "import lsst.afw.geom.ellipses as afwEllipse\n",
    "import lsst.afw.cameraGeom as cameraGeom"
   ]
  },
  {
   "cell_type": "code",
   "execution_count": 4,
   "metadata": {
    "collapsed": true
   },
   "outputs": [],
   "source": [
    "%matplotlib inline\n",
    "import matplotlib.pyplot as plt\n",
    "plt.rcParams['figure.figsize'] = (13, 8) if False else (10, 6)\n",
    "\n",
    "# data_path = '/nfs/lsst2/photocalData/data/decam/rerun/2'"
   ]
  },
  {
   "cell_type": "code",
   "execution_count": 5,
   "metadata": {
    "collapsed": false,
    "scrolled": true
   },
   "outputs": [],
   "source": [
    "# butler = dafPersist.Butler(os.path.join(\"/Users/photocal/data/decam\", \"rerun\",\n",
    "#                                         \"2\" if True else \"rhl/tmp\"))\n",
    "\n",
    "# data_path = '/nfs/lsst2/photocalData/data/rerun/2'\n",
    "#                /nfs/lsst2/photocalData/data/decam/rerun/2\n",
    "\n",
    "# butler = dafPersist.Butler(data_path)\n",
    "\n",
    "butler = dafPersist.Butler(os.path.join('/nfs/lsst2/photocalData/data/decam/rerun/',\n",
    "                                        \"4\" if True else \"rhl/tmp\"))"
   ]
  },
  {
   "cell_type": "code",
   "execution_count": null,
   "metadata": {
    "collapsed": true
   },
   "outputs": [],
   "source": []
  },
  {
   "cell_type": "code",
   "execution_count": 6,
   "metadata": {
    "collapsed": false,
    "scrolled": false
   },
   "outputs": [
    {
     "name": "stdout",
     "output_type": "stream",
     "text": [
      "Reading 1: No unique lookup for ['ccdnum'] from {'filter': 'r', 'date': '2015-11-25', 'visit': 496473, 'ccd': 1}: 2 matches\n",
      "Reading 2: No unique lookup for ['ccdnum'] from {'filter': 'r', 'date': '2015-11-25', 'visit': 496473, 'ccd': 2}: 2 matches\n",
      "Reading 3: No unique lookup for ['ccdnum'] from {'filter': 'r', 'date': '2015-11-25', 'visit': 496473, 'ccd': 3}: 2 matches\n",
      "Reading 4: No unique lookup for ['ccdnum'] from {'filter': 'r', 'date': '2015-11-25', 'visit': 496473, 'ccd': 4}: 2 matches\n",
      "Reading 5: No unique lookup for ['ccdnum'] from {'filter': 'r', 'date': '2015-11-25', 'visit': 496473, 'ccd': 5}: 2 matches\n",
      "Reading 6: No unique lookup for ['ccdnum'] from {'filter': 'r', 'date': '2015-11-25', 'visit': 496473, 'ccd': 6}: 2 matches\n",
      "Reading 7: No unique lookup for ['ccdnum'] from {'filter': 'r', 'date': '2015-11-25', 'visit': 496473, 'ccd': 7}: 2 matches\n",
      "Reading 8: No unique lookup for ['ccdnum'] from {'filter': 'r', 'date': '2015-11-25', 'visit': 496473, 'ccd': 8}: 2 matches\n",
      "Reading 9: No unique lookup for ['ccdnum'] from {'filter': 'r', 'date': '2015-11-25', 'visit': 496473, 'ccd': 9}: 2 matches\n",
      "Reading 10: No unique lookup for ['ccdnum'] from {'filter': 'r', 'date': '2015-11-25', 'visit': 496473, 'ccd': 10}: 2 matches\n",
      "Reading 11: No unique lookup for ['ccdnum'] from {'filter': 'r', 'date': '2015-11-25', 'visit': 496473, 'ccd': 11}: 2 matches\n",
      "Reading 12: No unique lookup for ['ccdnum'] from {'filter': 'r', 'date': '2015-11-25', 'visit': 496473, 'ccd': 12}: 2 matches\n",
      "Reading 13: No unique lookup for ['ccdnum'] from {'filter': 'r', 'date': '2015-11-25', 'visit': 496473, 'ccd': 13}: 2 matches\n",
      "Reading 14: No unique lookup for ['ccdnum'] from {'filter': 'r', 'date': '2015-11-25', 'visit': 496473, 'ccd': 14}: 2 matches\n",
      "Reading 15: No unique lookup for ['ccdnum'] from {'filter': 'r', 'date': '2015-11-25', 'visit': 496473, 'ccd': 15}: 2 matches\n",
      "Reading 16: No unique lookup for ['ccdnum'] from {'filter': 'r', 'date': '2015-11-25', 'visit': 496473, 'ccd': 16}: 2 matches\n",
      "Reading 17: No unique lookup for ['ccdnum'] from {'filter': 'r', 'date': '2015-11-25', 'visit': 496473, 'ccd': 17}: 2 matches\n",
      "Reading 18: No unique lookup for ['ccdnum'] from {'filter': 'r', 'date': '2015-11-25', 'visit': 496473, 'ccd': 18}: 2 matches\n",
      "Reading 19: No unique lookup for ['ccdnum'] from {'filter': 'r', 'date': '2015-11-25', 'visit': 496473, 'ccd': 19}: 2 matches\n",
      "Reading 20: No unique lookup for ['ccdnum'] from {'filter': 'r', 'date': '2015-11-25', 'visit': 496473, 'ccd': 20}: 2 matches\n",
      "Reading 21: No unique lookup for ['ccdnum'] from {'filter': 'r', 'date': '2015-11-25', 'visit': 496473, 'ccd': 21}: 2 matches\n",
      "Reading 22: No unique lookup for ['ccdnum'] from {'filter': 'r', 'date': '2015-11-25', 'visit': 496473, 'ccd': 22}: 2 matches\n",
      "Reading 23: No unique lookup for ['ccdnum'] from {'filter': 'r', 'date': '2015-11-25', 'visit': 496473, 'ccd': 23}: 2 matches\n",
      "Reading 24: No unique lookup for ['ccdnum'] from {'filter': 'r', 'date': '2015-11-25', 'visit': 496473, 'ccd': 24}: 2 matches\n",
      "Reading 25: No unique lookup for ['ccdnum'] from {'filter': 'r', 'date': '2015-11-25', 'visit': 496473, 'ccd': 25}: 2 matches\n",
      "Reading 26: No unique lookup for ['ccdnum'] from {'filter': 'r', 'date': '2015-11-25', 'visit': 496473, 'ccd': 26}: 2 matches\n",
      "Reading 27: No unique lookup for ['ccdnum'] from {'filter': 'r', 'date': '2015-11-25', 'visit': 496473, 'ccd': 27}: 2 matches\n",
      "Reading 28: No unique lookup for ['ccdnum'] from {'filter': 'r', 'date': '2015-11-25', 'visit': 496473, 'ccd': 28}: 2 matches\n",
      "Reading 29: No unique lookup for ['ccdnum'] from {'filter': 'r', 'date': '2015-11-25', 'visit': 496473, 'ccd': 29}: 2 matches\n",
      "Reading 30: 'ccdnum'\n",
      "Reading 31: No unique lookup for ['ccdnum'] from {'filter': 'r', 'date': '2015-11-25', 'visit': 496473, 'ccd': 31}: 2 matches\n",
      "Reading 32: No unique lookup for ['ccdnum'] from {'filter': 'r', 'date': '2015-11-25', 'visit': 496473, 'ccd': 32}: 0 matches\n",
      "Reading 33: No unique lookup for ['ccdnum'] from {'filter': 'r', 'date': '2015-11-25', 'visit': 496473, 'ccd': 33}: 0 matches\n",
      "Reading 34: No unique lookup for ['ccdnum'] from {'filter': 'r', 'date': '2015-11-25', 'visit': 496473, 'ccd': 34}: 0 matches\n",
      "Reading 35: No unique lookup for ['ccdnum'] from {'filter': 'r', 'date': '2015-11-25', 'visit': 496473, 'ccd': 35}: 0 matches\n",
      "Reading 36: No unique lookup for ['ccdnum'] from {'filter': 'r', 'date': '2015-11-25', 'visit': 496473, 'ccd': 36}: 0 matches\n",
      "Reading 37: No unique lookup for ['ccdnum'] from {'filter': 'r', 'date': '2015-11-25', 'visit': 496473, 'ccd': 37}: 0 matches\n",
      "Reading 38: No unique lookup for ['ccdnum'] from {'filter': 'r', 'date': '2015-11-25', 'visit': 496473, 'ccd': 38}: 0 matches\n",
      "Reading 39: No unique lookup for ['ccdnum'] from {'filter': 'r', 'date': '2015-11-25', 'visit': 496473, 'ccd': 39}: 0 matches\n",
      "Reading 40: No unique lookup for ['ccdnum'] from {'filter': 'r', 'date': '2015-11-25', 'visit': 496473, 'ccd': 40}: 0 matches\n",
      "Reading 41: No unique lookup for ['ccdnum'] from {'filter': 'r', 'date': '2015-11-25', 'visit': 496473, 'ccd': 41}: 0 matches\n",
      "Reading 42: No unique lookup for ['ccdnum'] from {'filter': 'r', 'date': '2015-11-25', 'visit': 496473, 'ccd': 42}: 0 matches\n",
      "Reading 43: No unique lookup for ['ccdnum'] from {'filter': 'r', 'date': '2015-11-25', 'visit': 496473, 'ccd': 43}: 0 matches\n",
      "Reading 44: No unique lookup for ['ccdnum'] from {'filter': 'r', 'date': '2015-11-25', 'visit': 496473, 'ccd': 44}: 0 matches\n",
      "Reading 45: No unique lookup for ['ccdnum'] from {'filter': 'r', 'date': '2015-11-25', 'visit': 496473, 'ccd': 45}: 0 matches\n",
      "Reading 46: No unique lookup for ['ccdnum'] from {'filter': 'r', 'date': '2015-11-25', 'visit': 496473, 'ccd': 46}: 0 matches\n",
      "Reading 47: No unique lookup for ['ccdnum'] from {'filter': 'r', 'date': '2015-11-25', 'visit': 496473, 'ccd': 47}: 0 matches\n",
      "Reading 48: No unique lookup for ['ccdnum'] from {'filter': 'r', 'date': '2015-11-25', 'visit': 496473, 'ccd': 48}: 0 matches\n",
      "Reading 49: No unique lookup for ['ccdnum'] from {'filter': 'r', 'date': '2015-11-25', 'visit': 496473, 'ccd': 49}: 0 matches\n",
      "Reading 50: No unique lookup for ['ccdnum'] from {'filter': 'r', 'date': '2015-11-25', 'visit': 496473, 'ccd': 50}: 0 matches\n",
      "Reading 51: No unique lookup for ['ccdnum'] from {'filter': 'r', 'date': '2015-11-25', 'visit': 496473, 'ccd': 51}: 0 matches\n",
      "Reading 52: No unique lookup for ['ccdnum'] from {'filter': 'r', 'date': '2015-11-25', 'visit': 496473, 'ccd': 52}: 0 matches\n",
      "Reading 53: No unique lookup for ['ccdnum'] from {'filter': 'r', 'date': '2015-11-25', 'visit': 496473, 'ccd': 53}: 0 matches\n",
      "Reading 54: No unique lookup for ['ccdnum'] from {'filter': 'r', 'date': '2015-11-25', 'visit': 496473, 'ccd': 54}: 0 matches\n",
      "Reading 55: No unique lookup for ['ccdnum'] from {'filter': 'r', 'date': '2015-11-25', 'visit': 496473, 'ccd': 55}: 0 matches\n",
      "Reading 56: No unique lookup for ['ccdnum'] from {'filter': 'r', 'date': '2015-11-25', 'visit': 496473, 'ccd': 56}: 0 matches\n",
      "Reading 57: No unique lookup for ['ccdnum'] from {'filter': 'r', 'date': '2015-11-25', 'visit': 496473, 'ccd': 57}: 0 matches\n",
      "Reading 58: No unique lookup for ['ccdnum'] from {'filter': 'r', 'date': '2015-11-25', 'visit': 496473, 'ccd': 58}: 0 matches\n",
      "Reading 59: No unique lookup for ['ccdnum'] from {'filter': 'r', 'date': '2015-11-25', 'visit': 496473, 'ccd': 59}: 0 matches\n",
      "Reading 60: No unique lookup for ['ccdnum'] from {'filter': 'r', 'date': '2015-11-25', 'visit': 496473, 'ccd': 60}: 0 matches\n",
      "Reading 61: No unique lookup for ['ccdnum'] from {'filter': 'r', 'date': '2015-11-25', 'visit': 496473, 'ccd': 61}: 0 matches\n",
      "Reading 62: No unique lookup for ['ccdnum'] from {'filter': 'r', 'date': '2015-11-25', 'visit': 496473, 'ccd': 62}: 0 matches\n"
     ]
    }
   ],
   "source": [
    "import lsst.afw.display.ds9 as display\n",
    "import lsst.afw.cameraGeom.utils as camGeomUtils\n",
    "camGeomUtils = reload(camGeomUtils)\n",
    "\n",
    "camera = butler.get(\"camera\")\n",
    "# frame, visit = 1, 496577\n",
    "frame, visit = 1, 496473\n",
    "\n",
    "# frame, visit = 1, 496372\n",
    "\n",
    "# product = 'calexp'\n",
    "product = 'postISRCCD'\n",
    "# product = 'raw'\n",
    "\n",
    "date = '2015-11-25'\n",
    "filter = 'r'\n",
    "\n",
    "# imageSource = camGeomUtils.ButlerImage(butler, product, visit=visit, verbose=True)\n",
    "imageSource = camGeomUtils.ButlerImage(butler, product, visit=visit, verbose=True, date=date, filter=filter)\n",
    "\n",
    "try:\n",
    "    mos\n",
    "except NameError:\n",
    "    mos = dict()\n",
    "\n",
    "mos['496473-1'] = camGeomUtils.showCamera(camera, imageSource=imageSource, title=str(visit), binSize=8)#,\n",
    "#                                      frame=frame)#, ccdKey=\"ccdnum\")"
   ]
  },
  {
   "cell_type": "code",
   "execution_count": null,
   "metadata": {
    "collapsed": false
   },
   "outputs": [],
   "source": [
    "# names = camera.()\n",
    "# for name in names: print name\n",
    "\n",
    "print camera.getFpBBox()\n"
   ]
  },
  {
   "cell_type": "code",
   "execution_count": null,
   "metadata": {
    "collapsed": false
   },
   "outputs": [],
   "source": [
    "dataId = dict(visit=496495)\n",
    "\n",
    "for ccdnum in range(1, 63):\n",
    "#     try:\n",
    "    calexp = butler.get(\"calexp\", dataId, ccdnum=ccdnum, immediate=True)\n",
    "#     except Exception:\n",
    "#         continue\n",
    "    \n",
    "    print calexp.getDetector().getName(), calexp.getDetector().getId()"
   ]
  },
  {
   "cell_type": "code",
   "execution_count": null,
   "metadata": {
    "collapsed": false
   },
   "outputs": [],
   "source": [
    "dataId = dict(visit=496495, ccdnum=18)\n",
    "src = butler.get(\"src\", dataId, immediate=True)\n",
    "calexp = butler.get(\"calexp\", dataId)\n",
    "if False:\n",
    "    ds9.mtv(calexp)\n",
    "else:\n",
    "    ds9.erase()\n",
    "with ds9.Buffering():\n",
    "    for s in src:\n",
    "        if s.getFootprint().getNpix() > 1000:\n",
    "            ellip = s.getShape()\n",
    "            ellip = afwEllipse.Axes(ellip)\n",
    "\n",
    "            if ellip.getDeterminantRadius() > 10:\n",
    "                ds9.dot('o', *s.getCentroid(), size=10)\n",
    "                print s.getCentroid()"
   ]
  },
  {
   "cell_type": "code",
   "execution_count": null,
   "metadata": {
    "collapsed": false
   },
   "outputs": [],
   "source": [
    "ccdName = 'N11'\n",
    "ccdnum = [_.getId() for _ in camera if _.getName() == ccdName][0]\n",
    "\n",
    "dataId = dict(visit=496559, ccdnum=ccdnum)\n",
    "calexp = butler.get(\"raw\", dataId)\n",
    "srcs = butler.get(\"src\", dataId)\n",
    "\n",
    "frame = 0\n",
    "if True:\n",
    "    ds9.mtv(calexp, frame=frame, \n",
    "            title='%d %s' % (dataId[\"visit\"], calexp.getDetector().getName()))\n",
    "else:\n",
    "    ds9.erase(frame=frame)\n",
    "    \n",
    "if False:\n",
    "    with ds9.Buffering():\n",
    "        for s in srcs:\n",
    "            if s.getModelFlux() > 1e6:\n",
    "                ellip = s.getShape()\n",
    "                ellip = afwEllipse.Axes(ellip)\n",
    "\n",
    "                if ellip.getA() > 10 and ellip.getB() > 5:\n",
    "                    ds9.dot(ellip, *s.getCentroid(), frame=frame, size=20)\n",
    "                    #ds9.dot('%g' % s.getModelFlux(), *s.getCentroid(), frame=frame)\n",
    "                    ds9.dot('%.1f %.1f' % (ellip.getA(), ellip.getB()), *s.getCentroid(), frame=frame)"
   ]
  },
  {
   "cell_type": "code",
   "execution_count": null,
   "metadata": {
    "collapsed": false
   },
   "outputs": [],
   "source": [
    "nid = dict([(_.getName(), _.getId()) for _ in camera])\n",
    "print nid['S16']"
   ]
  },
  {
   "cell_type": "code",
   "execution_count": null,
   "metadata": {
    "collapsed": false
   },
   "outputs": [],
   "source": [
    "import lsst.afw.image as afwImage\n",
    "import lsst.afw.display as afwDisplay\n",
    "import numpy as np\n",
    "\n",
    "\n",
    "\n",
    "data = np.zeros((10,10), dtype=np.float32)\n",
    "img = afwImage.ImageF(data)\n",
    "afwDisplay.ds9.mtv(img,frame=0)"
   ]
  },
  {
   "cell_type": "code",
   "execution_count": 141,
   "metadata": {
    "collapsed": false
   },
   "outputs": [
    {
     "name": "stdout",
     "output_type": "stream",
     "text": [
      "{496577: <lsst.afw.image.imageLib.ImageF; proxy of <Swig Object of type 'boost::shared_ptr< lsst::afw::image::Image< float > > *' at 0x7f48e6102c90> >}\n"
     ]
    }
   ],
   "source": [
    "print mos"
   ]
  },
  {
   "cell_type": "code",
   "execution_count": 143,
   "metadata": {
    "collapsed": false
   },
   "outputs": [],
   "source": [
    "ds9.mtv(mos[496577])"
   ]
  },
  {
   "cell_type": "code",
   "execution_count": 145,
   "metadata": {
    "collapsed": true
   },
   "outputs": [],
   "source": [
    "ds9.mtv(mos[496372], frame=1)"
   ]
  },
  {
   "cell_type": "code",
   "execution_count": 148,
   "metadata": {
    "collapsed": true
   },
   "outputs": [],
   "source": [
    "ds9.mtv(mos['496577-3'], frame=1)"
   ]
  },
  {
   "cell_type": "code",
   "execution_count": 150,
   "metadata": {
    "collapsed": true
   },
   "outputs": [],
   "source": [
    "ds9.mtv(mos['496577-4'], frame=2)"
   ]
  },
  {
   "cell_type": "code",
   "execution_count": 159,
   "metadata": {
    "collapsed": true
   },
   "outputs": [],
   "source": [
    "ds9.mtv(mos['496577-5'], frame=3)"
   ]
  },
  {
   "cell_type": "code",
   "execution_count": 162,
   "metadata": {
    "collapsed": true
   },
   "outputs": [],
   "source": [
    "ds9.mtv(mos['496577-6'], frame=4)"
   ]
  },
  {
   "cell_type": "code",
   "execution_count": 179,
   "metadata": {
    "collapsed": true
   },
   "outputs": [],
   "source": [
    "# ds9.mtv(mos['496577-7'], frame=5)\n",
    "ds9.mtv(mos['496473-1'], frame=5)"
   ]
  },
  {
   "cell_type": "code",
   "execution_count": 175,
   "metadata": {
    "collapsed": false
   },
   "outputs": [],
   "source": [
    "import lsst.afw.display.ds9 as display\n",
    "import lsst.afw.cameraGeom.utils as camGeomUtils\n",
    "camGeomUtils = reload(camGeomUtils)\n",
    "\n",
    "camera = butler.get(\"camera\")\n",
    "frame, visit = 1, 496473\n",
    "# frame, visit = 1, 496372\n",
    "\n",
    "# product = 'calexp'\n",
    "product = 'postISRCCD'\n",
    "# product = 'raw'\n",
    "\n",
    "date = '2015-11-26'\n",
    "filter = 'r'\n",
    "\n",
    "# imageSource = camGeomUtils.ButlerImage(butler, product, visit=visit, verbose=True)\n",
    "# imageSource = camGeomUtils.ButlerImage(butler, product, visit=visit, verbose=True, date=date, filter=filter)\n",
    "\n",
    "im = butler.get(product, visit=496473, ccdnum=20)\n",
    "\n",
    "ds9.mtv(im, frame=1)\n",
    "# imageSource.\n",
    "\n",
    "# try:\n",
    "#     mos\n",
    "# except NameError:\n",
    "#     mos = dict()\n",
    "\n",
    "# mos['496577-7'] = camGeomUtils.showCamera(camera, imageSource=imageSource, title=str(visit), binSize=8)#,\n",
    "# #                                      frame=frame)#, ccdKey=\"ccdnum\")"
   ]
  },
  {
   "cell_type": "code",
   "execution_count": 181,
   "metadata": {
    "collapsed": true
   },
   "outputs": [],
   "source": [
    "%matplotlib inline"
   ]
  },
  {
   "cell_type": "code",
   "execution_count": 185,
   "metadata": {
    "collapsed": false
   },
   "outputs": [
    {
     "ename": "AttributeError",
     "evalue": "Unknown property figsize",
     "output_type": "error",
     "traceback": [
      "\u001b[1;31m---------------------------------------------------------------------------\u001b[0m",
      "\u001b[1;31mAttributeError\u001b[0m                            Traceback (most recent call last)",
      "\u001b[1;32m<ipython-input-185-19aceb9b977a>\u001b[0m in \u001b[0;36m<module>\u001b[1;34m()\u001b[0m\n\u001b[1;32m----> 1\u001b[1;33m \u001b[0mplt\u001b[0m\u001b[1;33m.\u001b[0m\u001b[0mimshow\u001b[0m\u001b[1;33m(\u001b[0m\u001b[0mmos\u001b[0m\u001b[1;33m[\u001b[0m\u001b[1;34m'496473-1'\u001b[0m\u001b[1;33m]\u001b[0m\u001b[1;33m.\u001b[0m\u001b[0mgetArray\u001b[0m\u001b[1;33m(\u001b[0m\u001b[1;33m)\u001b[0m\u001b[1;33m,\u001b[0m\u001b[0mcmap\u001b[0m \u001b[1;33m=\u001b[0m \u001b[1;34m'gray'\u001b[0m\u001b[1;33m,\u001b[0m \u001b[0mfigsize\u001b[0m\u001b[1;33m=\u001b[0m\u001b[1;33m(\u001b[0m\u001b[1;36m10\u001b[0m\u001b[1;33m,\u001b[0m\u001b[1;36m10\u001b[0m\u001b[1;33m)\u001b[0m\u001b[1;33m)\u001b[0m\u001b[1;33m\u001b[0m\u001b[0m\n\u001b[0m",
      "\u001b[1;32m/home/lsstsw/miniconda/lib/python2.7/site-packages/matplotlib/pyplot.pyc\u001b[0m in \u001b[0;36mimshow\u001b[1;34m(X, cmap, norm, aspect, interpolation, alpha, vmin, vmax, origin, extent, shape, filternorm, filterrad, imlim, resample, url, hold, data, **kwargs)\u001b[0m\n\u001b[0;32m   3020\u001b[0m                         \u001b[0mfilternorm\u001b[0m\u001b[1;33m=\u001b[0m\u001b[0mfilternorm\u001b[0m\u001b[1;33m,\u001b[0m \u001b[0mfilterrad\u001b[0m\u001b[1;33m=\u001b[0m\u001b[0mfilterrad\u001b[0m\u001b[1;33m,\u001b[0m\u001b[1;33m\u001b[0m\u001b[0m\n\u001b[0;32m   3021\u001b[0m                         \u001b[0mimlim\u001b[0m\u001b[1;33m=\u001b[0m\u001b[0mimlim\u001b[0m\u001b[1;33m,\u001b[0m \u001b[0mresample\u001b[0m\u001b[1;33m=\u001b[0m\u001b[0mresample\u001b[0m\u001b[1;33m,\u001b[0m \u001b[0murl\u001b[0m\u001b[1;33m=\u001b[0m\u001b[0murl\u001b[0m\u001b[1;33m,\u001b[0m \u001b[0mdata\u001b[0m\u001b[1;33m=\u001b[0m\u001b[0mdata\u001b[0m\u001b[1;33m,\u001b[0m\u001b[1;33m\u001b[0m\u001b[0m\n\u001b[1;32m-> 3022\u001b[1;33m                         **kwargs)\n\u001b[0m\u001b[0;32m   3023\u001b[0m     \u001b[1;32mfinally\u001b[0m\u001b[1;33m:\u001b[0m\u001b[1;33m\u001b[0m\u001b[0m\n\u001b[0;32m   3024\u001b[0m         \u001b[0max\u001b[0m\u001b[1;33m.\u001b[0m\u001b[0mhold\u001b[0m\u001b[1;33m(\u001b[0m\u001b[0mwashold\u001b[0m\u001b[1;33m)\u001b[0m\u001b[1;33m\u001b[0m\u001b[0m\n",
      "\u001b[1;32m/home/lsstsw/miniconda/lib/python2.7/site-packages/matplotlib/__init__.pyc\u001b[0m in \u001b[0;36minner\u001b[1;34m(ax, *args, **kwargs)\u001b[0m\n\u001b[0;32m   1810\u001b[0m                     warnings.warn(msg % (label_namer, func.__name__),\n\u001b[0;32m   1811\u001b[0m                                   RuntimeWarning, stacklevel=2)\n\u001b[1;32m-> 1812\u001b[1;33m             \u001b[1;32mreturn\u001b[0m \u001b[0mfunc\u001b[0m\u001b[1;33m(\u001b[0m\u001b[0max\u001b[0m\u001b[1;33m,\u001b[0m \u001b[1;33m*\u001b[0m\u001b[0margs\u001b[0m\u001b[1;33m,\u001b[0m \u001b[1;33m**\u001b[0m\u001b[0mkwargs\u001b[0m\u001b[1;33m)\u001b[0m\u001b[1;33m\u001b[0m\u001b[0m\n\u001b[0m\u001b[0;32m   1813\u001b[0m         \u001b[0mpre_doc\u001b[0m \u001b[1;33m=\u001b[0m \u001b[0minner\u001b[0m\u001b[1;33m.\u001b[0m\u001b[0m__doc__\u001b[0m\u001b[1;33m\u001b[0m\u001b[0m\n\u001b[0;32m   1814\u001b[0m         \u001b[1;32mif\u001b[0m \u001b[0mpre_doc\u001b[0m \u001b[1;32mis\u001b[0m \u001b[0mNone\u001b[0m\u001b[1;33m:\u001b[0m\u001b[1;33m\u001b[0m\u001b[0m\n",
      "\u001b[1;32m/home/lsstsw/miniconda/lib/python2.7/site-packages/matplotlib/axes/_axes.pyc\u001b[0m in \u001b[0;36mimshow\u001b[1;34m(self, X, cmap, norm, aspect, interpolation, alpha, vmin, vmax, origin, extent, shape, filternorm, filterrad, imlim, resample, url, **kwargs)\u001b[0m\n\u001b[0;32m   4943\u001b[0m         im = mimage.AxesImage(self, cmap, norm, interpolation, origin, extent,\n\u001b[0;32m   4944\u001b[0m                               \u001b[0mfilternorm\u001b[0m\u001b[1;33m=\u001b[0m\u001b[0mfilternorm\u001b[0m\u001b[1;33m,\u001b[0m \u001b[0mfilterrad\u001b[0m\u001b[1;33m=\u001b[0m\u001b[0mfilterrad\u001b[0m\u001b[1;33m,\u001b[0m\u001b[1;33m\u001b[0m\u001b[0m\n\u001b[1;32m-> 4945\u001b[1;33m                               resample=resample, **kwargs)\n\u001b[0m\u001b[0;32m   4946\u001b[0m \u001b[1;33m\u001b[0m\u001b[0m\n\u001b[0;32m   4947\u001b[0m         \u001b[0mim\u001b[0m\u001b[1;33m.\u001b[0m\u001b[0mset_data\u001b[0m\u001b[1;33m(\u001b[0m\u001b[0mX\u001b[0m\u001b[1;33m)\u001b[0m\u001b[1;33m\u001b[0m\u001b[0m\n",
      "\u001b[1;32m/home/lsstsw/miniconda/lib/python2.7/site-packages/matplotlib/image.pyc\u001b[0m in \u001b[0;36m__init__\u001b[1;34m(self, ax, cmap, norm, interpolation, origin, extent, filternorm, filterrad, resample, **kwargs)\u001b[0m\n\u001b[0;32m    595\u001b[0m                                 \u001b[0mfilterrad\u001b[0m\u001b[1;33m=\u001b[0m\u001b[0mfilterrad\u001b[0m\u001b[1;33m,\u001b[0m\u001b[1;33m\u001b[0m\u001b[0m\n\u001b[0;32m    596\u001b[0m                                 \u001b[0mresample\u001b[0m\u001b[1;33m=\u001b[0m\u001b[0mresample\u001b[0m\u001b[1;33m,\u001b[0m\u001b[1;33m\u001b[0m\u001b[0m\n\u001b[1;32m--> 597\u001b[1;33m                                 \u001b[1;33m**\u001b[0m\u001b[0mkwargs\u001b[0m\u001b[1;33m\u001b[0m\u001b[0m\n\u001b[0m\u001b[0;32m    598\u001b[0m                                 )\n\u001b[0;32m    599\u001b[0m \u001b[1;33m\u001b[0m\u001b[0m\n",
      "\u001b[1;32m/home/lsstsw/miniconda/lib/python2.7/site-packages/matplotlib/image.pyc\u001b[0m in \u001b[0;36m__init__\u001b[1;34m(self, ax, cmap, norm, interpolation, origin, filternorm, filterrad, resample, **kwargs)\u001b[0m\n\u001b[0;32m    128\u001b[0m         \u001b[0mself\u001b[0m\u001b[1;33m.\u001b[0m\u001b[0m_image_skew_coordinate\u001b[0m \u001b[1;33m=\u001b[0m \u001b[0mNone\u001b[0m\u001b[1;33m\u001b[0m\u001b[0m\n\u001b[0;32m    129\u001b[0m \u001b[1;33m\u001b[0m\u001b[0m\n\u001b[1;32m--> 130\u001b[1;33m         \u001b[0mself\u001b[0m\u001b[1;33m.\u001b[0m\u001b[0mupdate\u001b[0m\u001b[1;33m(\u001b[0m\u001b[0mkwargs\u001b[0m\u001b[1;33m)\u001b[0m\u001b[1;33m\u001b[0m\u001b[0m\n\u001b[0m\u001b[0;32m    131\u001b[0m \u001b[1;33m\u001b[0m\u001b[0m\n\u001b[0;32m    132\u001b[0m     \u001b[1;32mdef\u001b[0m \u001b[0m__getstate__\u001b[0m\u001b[1;33m(\u001b[0m\u001b[0mself\u001b[0m\u001b[1;33m)\u001b[0m\u001b[1;33m:\u001b[0m\u001b[1;33m\u001b[0m\u001b[0m\n",
      "\u001b[1;32m/home/lsstsw/miniconda/lib/python2.7/site-packages/matplotlib/artist.pyc\u001b[0m in \u001b[0;36mupdate\u001b[1;34m(self, props)\u001b[0m\n\u001b[0;32m    854\u001b[0m                 \u001b[0mfunc\u001b[0m \u001b[1;33m=\u001b[0m \u001b[0mgetattr\u001b[0m\u001b[1;33m(\u001b[0m\u001b[0mself\u001b[0m\u001b[1;33m,\u001b[0m \u001b[1;34m'set_'\u001b[0m \u001b[1;33m+\u001b[0m \u001b[0mk\u001b[0m\u001b[1;33m,\u001b[0m \u001b[0mNone\u001b[0m\u001b[1;33m)\u001b[0m\u001b[1;33m\u001b[0m\u001b[0m\n\u001b[0;32m    855\u001b[0m                 \u001b[1;32mif\u001b[0m \u001b[0mfunc\u001b[0m \u001b[1;32mis\u001b[0m \u001b[0mNone\u001b[0m \u001b[1;32mor\u001b[0m \u001b[1;32mnot\u001b[0m \u001b[0msix\u001b[0m\u001b[1;33m.\u001b[0m\u001b[0mcallable\u001b[0m\u001b[1;33m(\u001b[0m\u001b[0mfunc\u001b[0m\u001b[1;33m)\u001b[0m\u001b[1;33m:\u001b[0m\u001b[1;33m\u001b[0m\u001b[0m\n\u001b[1;32m--> 856\u001b[1;33m                     \u001b[1;32mraise\u001b[0m \u001b[0mAttributeError\u001b[0m\u001b[1;33m(\u001b[0m\u001b[1;34m'Unknown property %s'\u001b[0m \u001b[1;33m%\u001b[0m \u001b[0mk\u001b[0m\u001b[1;33m)\u001b[0m\u001b[1;33m\u001b[0m\u001b[0m\n\u001b[0m\u001b[0;32m    857\u001b[0m                 \u001b[0mfunc\u001b[0m\u001b[1;33m(\u001b[0m\u001b[0mv\u001b[0m\u001b[1;33m)\u001b[0m\u001b[1;33m\u001b[0m\u001b[0m\n\u001b[0;32m    858\u001b[0m             \u001b[0mchanged\u001b[0m \u001b[1;33m=\u001b[0m \u001b[0mTrue\u001b[0m\u001b[1;33m\u001b[0m\u001b[0m\n",
      "\u001b[1;31mAttributeError\u001b[0m: Unknown property figsize"
     ]
    },
    {
     "data": {
      "image/png": "[encoded data removed]",
      "text/plain": [
       "<matplotlib.figure.Figure at 0x7f484d4a2d50>"
      ]
     },
     "metadata": {},
     "output_type": "display_data"
    }
   ],
   "source": [
    "plt.imshow(mos['496473-1'].getArray(),cmap = 'gray', figsize=(10,10))"
   ]
  },
  {
   "cell_type": "code",
   "execution_count": 200,
   "metadata": {
    "collapsed": false
   },
   "outputs": [],
   "source": [
    "ds9.pan(420,1779, frame=5)"
   ]
  },
  {
   "cell_type": "code",
   "execution_count": 198,
   "metadata": {
    "collapsed": false
   },
   "outputs": [],
   "source": [
    "data = np.zeros((10,10), dtype = np.float32)\n",
    "img = afwImage.ImageF(data)\n",
    "ds9.mtv(img,frame=6)"
   ]
  },
  {
   "cell_type": "code",
   "execution_count": null,
   "metadata": {
    "collapsed": true
   },
   "outputs": [],
   "source": []
  }
 ],
 "metadata": {
  "kernelspec": {
   "display_name": "Python 2",
   "language": "python",
   "name": "python2"
  },
  "language_info": {
   "codemirror_mode": {
    "name": "ipython",
    "version": 2
   },
   "file_extension": ".py",
   "mimetype": "text/x-python",
   "name": "python",
   "nbconvert_exporter": "python",
   "pygments_lexer": "ipython2",
   "version": "2.7.11"
  }
 },
 "nbformat": 4,
 "nbformat_minor": 0
}
