{
 "cells": [
  {
   "cell_type": "code",
   "execution_count": 1,
   "metadata": {
    "collapsed": false
   },
   "outputs": [
    {
     "name": "stdout",
     "output_type": "stream",
     "text": [
      "Loaded\n"
     ]
    }
   ],
   "source": [
    "# merlin_image_browsing.ipynd demonstrates pixel-level operations on LSST lab test images\n",
    "# using some DMStack functionality\n",
    "# Merlin Fisher-Levine, 2016\n",
    "\n",
    "# best to start command line with ipython --pylab if not running inside notebook\n",
    "# initialize by importing useful stuff\n",
    "import numpy as np\n",
    "import matplotlib.pyplot as plt\n",
    "import astropy as ast\n",
    "import astropy.stats\n",
    "from astropy.io import fits\n",
    "import scipy as sc\n",
    "import scipy.signal\n",
    "import textwrap\n",
    "\n",
    "# Load parts of the LSST stack we will need:\n",
    "import lsst.afw.image as afwImage # needed for declaring/opening images\n",
    "import lsst.afw.display.ds9 as ds9 # needed for display\n",
    "import lsst.obs.decam as obs_decam # needed for DECam\n",
    "import lsst.daf.persistence as dafPersist # needed for the butler\n",
    "import lsst.afw.geom as afwGeom # needed for the camera model\n",
    "import lsst.afw.cameraGeom as cameraGeom # needed for the camera model\n",
    "# import lsst.afw.geom.ellipses as afwEllipse\n",
    "\n",
    "\n",
    "# this next magic command makes plots appear within the notebook\n",
    "%matplotlib inline\n",
    "\n",
    "# define figure size parameters to make figures larger than default\n",
    "figwidth=10\n",
    "figheight=10\n",
    "\n",
    "print 'Loaded'"
   ]
  },
  {
   "cell_type": "code",
   "execution_count": 2,
   "metadata": {
    "collapsed": false
   },
   "outputs": [],
   "source": [
    "# This is still the easiest way of examining image metadata (in my opionion, and as things stand)\n",
    "\n",
    "# # open a FITS file \n",
    "# hdulist=fits.open(\"foo.fits\")\n",
    "\n",
    "# # look at objects that reside within this \"list\". Note this list is zero-based.\n",
    "# hdulist.info()\n"
   ]
  },
  {
   "cell_type": "code",
   "execution_count": 3,
   "metadata": {
    "collapsed": false
   },
   "outputs": [
    {
     "ename": "NameError",
     "evalue": "name 'HDU_num' is not defined",
     "output_type": "error",
     "traceback": [
      "\u001b[1;31m---------------------------------------------------------------------------\u001b[0m",
      "\u001b[1;31mNameError\u001b[0m                                 Traceback (most recent call last)",
      "\u001b[1;32m<ipython-input-3-84338a4ee292>\u001b[0m in \u001b[0;36m<module>\u001b[1;34m()\u001b[0m\n\u001b[0;32m     13\u001b[0m \u001b[1;33m\u001b[0m\u001b[0m\n\u001b[0;32m     14\u001b[0m \u001b[1;31m#send that image to ds9 for display\u001b[0m\u001b[1;33m\u001b[0m\u001b[1;33m\u001b[0m\u001b[0m\n\u001b[1;32m---> 15\u001b[1;33m \u001b[0mds9\u001b[0m\u001b[1;33m.\u001b[0m\u001b[0mmtv\u001b[0m\u001b[1;33m(\u001b[0m\u001b[0mimage\u001b[0m\u001b[1;33m,\u001b[0m \u001b[0mframe\u001b[0m\u001b[1;33m=\u001b[0m\u001b[0mHDU_num\u001b[0m\u001b[1;33m)\u001b[0m\u001b[1;33m\u001b[0m\u001b[0m\n\u001b[0m",
      "\u001b[1;31mNameError\u001b[0m: name 'HDU_num' is not defined"
     ]
    }
   ],
   "source": [
    "filename = '/nfs/lsst2/photocalData/data/observer2/DECam_00496473.fits.fz'\n",
    "\n",
    "#Load the file itself\n",
    "exposure = afwImage.ExposureF(filename)\n",
    "\n",
    "#This is one of the underlying objects\n",
    "maskedImage = exposure.getMaskedImage()\n",
    "\n",
    "# These three are held in the maskedImage\n",
    "image = maskedImage.getImage()\n",
    "mask = maskedImage.getMask()\n",
    "variance = maskedImage.getVariance()\n",
    "\n",
    "#send that image to ds9 for display\n",
    "ds9.mtv(image, frame=9)"
   ]
  },
  {
   "cell_type": "code",
   "execution_count": null,
   "metadata": {
    "collapsed": false
   },
   "outputs": [],
   "source": [
    "# # convert header to string and print header information for primary header \n",
    "# print \"----------extension 0 header-------------\" # common to all HDU elements for this image\n",
    "# print \" \"\n",
    "# print textwrap.fill(str(hdulist[0].header),80) # this slightly obscure syntax makes printout 80 columns wide\n"
   ]
  },
  {
   "cell_type": "code",
   "execution_count": null,
   "metadata": {
    "collapsed": false
   },
   "outputs": [],
   "source": [
    "# # print first extension's header\n",
    "# print \"----------extension 1 header-------------\" # amplifier-specific header info, mostly pixel placement information\n",
    "# print \"  \"\n",
    "# print textwrap.fill(str(hdulist[1].header),80) "
   ]
  },
  {
   "cell_type": "code",
   "execution_count": null,
   "metadata": {
    "collapsed": false
   },
   "outputs": [],
   "source": [
    "# # HDU header information for FITS binary table with photodiode time series\n",
    "# print \"----------extension 20 header-------------\" # This pertains to monochromator and monitor diode\n",
    "# print \"  \"\n",
    "# print textwrap.fill(str(hdulist[20].header),80) "
   ]
  },
  {
   "cell_type": "code",
   "execution_count": null,
   "metadata": {
    "collapsed": false
   },
   "outputs": [],
   "source": [
    "# # assign the pixel array for extenstion 1 within the FITS file to an array we can use\n",
    "# pixeldata=hdulist[1].data\n",
    "\n",
    "# # peek at range of pixel values we have\n",
    "# print \"Maximum pixel value= %s\" %np.max(pixeldata)\n",
    "# print \"Minimum pixel value= %s\" %np.min(pixeldata)\n",
    "# print \"Median pixel value= %s\" %np.median(pixeldata)"
   ]
  },
  {
   "cell_type": "code",
   "execution_count": 4,
   "metadata": {
    "collapsed": false
   },
   "outputs": [
    {
     "name": "stdout",
     "output_type": "stream",
     "text": [
      "image format is \n"
     ]
    },
    {
     "data": {
      "text/plain": [
       "(4146, 2160)"
      ]
     },
     "execution_count": 4,
     "metadata": {},
     "output_type": "execute_result"
    }
   ],
   "source": [
    "# We still have access to the raw pixel information, this is owned by the image, in its array:\n",
    "print \"image format is \"\n",
    "image.getArray().shape\n",
    "# pixeldata.shape"
   ]
  },
  {
   "cell_type": "code",
   "execution_count": null,
   "metadata": {
    "collapsed": false
   },
   "outputs": [],
   "source": [
    "# can still do all the stuff from last week:\n",
    "pixeldata = image.getArray()\n",
    "\n",
    "# peek at some individual pixel values\n",
    "print \"first pixel is            %s\" %pixeldata[0,0] # very first pixel digitized, this is actually pre-scan in the image\n",
    "print \"first imaging pixel is   %s\" %pixeldata[1,10] # column 11 (index value 10) is first pixel in imaging section\n",
    "print \"pixel near center is     %s\" %pixeldata[2000,200] # a pixel near the center of the amplifier's imaging section\n",
    "print \"last pixel in array is    %s\" %pixeldata[2047,543] # last pixel in the image, in overscan region\n",
    "print \" \"\n",
    "print \"here are some sequential pixels:\" # note Python doesn't give the final element from a slice range\n",
    "subset=pixeldata[2000,201:205]\n",
    "print(subset)"
   ]
  },
  {
   "cell_type": "code",
   "execution_count": null,
   "metadata": {
    "collapsed": false
   },
   "outputs": [],
   "source": [
    "# display image as grayscale with colorbar\n",
    "fig1=plt.figure(1,[figwidth,figheight])\n",
    "plt.imshow(pixeldata,cmap = 'gray')\n",
    "plt.colorbar()"
   ]
  },
  {
   "cell_type": "code",
   "execution_count": null,
   "metadata": {
    "collapsed": false
   },
   "outputs": [],
   "source": [
    "# that's fine, but can we please flip it so first pixel read out is in lower left corner? \n",
    "fig1=plt.figure(1,[figwidth,figheight])\n",
    "plt.imshow(pixeldata,cmap = 'gray',origin='lower')\n",
    "plt.colorbar()\n",
    "\n",
    "# OK, that's better but need to remember that index order is still (row,column) and not (x,y)"
   ]
  },
  {
   "cell_type": "code",
   "execution_count": null,
   "metadata": {
    "collapsed": false
   },
   "outputs": [],
   "source": [
    "# make histogram of pixel values. pixeldata.flat makes 1-d array. Do 3 sigma clipping to exclude outliers\n",
    "\n",
    "sigma_clipped_pixels = astropy.stats.sigma_clip(pixeldata[0:2002,11:512].flat)\n",
    "fig2 = plt.figure(2,[figwidth,figheight])\n",
    "pixel_range = sigma_clipped_pixels.min(), sigma_clipped_pixels.max()\n",
    "# plt.hist(pixeldata.flat,bins=50,range=pixel_range)\n",
    "plt.hist(pixeldata.flatten(),bins=50,range=pixel_range) #need a slight tweak here\n",
    "fig2.suptitle('histogram of 3-sigma clipped pixel values')\n",
    "\n",
    "# Pixel Response NonUniformity spec is 5% rms. This is same as sigma of the distibution\n",
    "pixel_sigma=np.std(pixeldata[0:2002,11:512].flat)# use only the imaging area\n",
    "PRNU=100*(pixel_sigma/np.mean(pixeldata[0:2002,11:512].flat))\n",
    "print \"PRNU for this image is %.1f percent, LSST spec is 5 percent\" %PRNU\n"
   ]
  },
  {
   "cell_type": "code",
   "execution_count": null,
   "metadata": {
    "collapsed": false
   },
   "outputs": [],
   "source": [
    "# row plot, horizontal cut across columns\n",
    "fig3=plt.figure(3,[figwidth,figheight])\n",
    "plt.plot(pixeldata[500,0:543],'b')\n",
    "plt.xlabel('column number')\n",
    "\n",
    "\n",
    "# column plot, vertical cut across rows\n",
    "fig4=plt.figure(4,[figwidth,figheight])\n",
    "plt.plot(pixeldata[0:2047,200],'r')\n",
    "plt.xlabel('row number')\n",
    "\n",
    "\n",
    "# column plot of overscan region, vertical cut across rows\n",
    "fig5=plt.figure(5,[figwidth,figheight])\n",
    "plt.plot(pixeldata[0:2047,530],'r')\n",
    "plt.xlabel('overscan row number')\n"
   ]
  },
  {
   "cell_type": "code",
   "execution_count": 5,
   "metadata": {
    "collapsed": false
   },
   "outputs": [],
   "source": [
    "datapath = '/nfs/lsst2/photocalData/data/decam/rerun/3/'\n",
    "# datapath = '/nfs/lsst2/photocalData/data/scratch/'\n",
    "butler = dafPersist.Butler(datapath)"
   ]
  },
  {
   "cell_type": "code",
   "execution_count": 8,
   "metadata": {
    "collapsed": true
   },
   "outputs": [],
   "source": [
    "import lsst.afw.cameraGeom.utils as camGeomUtils\n",
    "camGeomUtils = reload(camGeomUtils)\n",
    "\n",
    "camera = butler.get(\"camera\")"
   ]
  },
  {
   "cell_type": "code",
   "execution_count": 15,
   "metadata": {
    "collapsed": false
   },
   "outputs": [
    {
     "name": "stdout",
     "output_type": "stream",
     "text": [
      "Reading 61: No unique lookup for ['hdu'] from {'filter': 'r', 'date': '2015-11-25', 'ccd': 61, 'ccdnum': 61, 'visit': 496473}: 0 matches\n"
     ]
    }
   ],
   "source": [
    "frame, visit = 1, 496473\n",
    "\n",
    "product = 'raw'\n",
    "# other product options include 'raw', calexp', 'postISRCCD'\n",
    "\n",
    "# these should need to be specified, but a bug is necessitating them at the moment in obs_decam\n",
    "date = '2015-11-25'\n",
    "filter = 'r'\n",
    "\n",
    "imageSource = camGeomUtils.ButlerImage(butler, product, visit=visit, verbose=True, date=date, filter=filter)\n",
    "\n",
    "# just a way of creating a dictionary to keep these in without overwriting each time we run the cell\n",
    "try:\n",
    "    mos\n",
    "except NameError:\n",
    "    mos = dict()\n",
    "\n",
    "mos['496473-raw'] = camGeomUtils.showCamera(camera, imageSource=imageSource, title=str(visit), binSize=8)"
   ]
  },
  {
   "cell_type": "code",
   "execution_count": 16,
   "metadata": {
    "collapsed": false
   },
   "outputs": [],
   "source": [
    "ds9.mtv(mos['496473-raw'], frame=2)"
   ]
  },
  {
   "cell_type": "code",
   "execution_count": null,
   "metadata": {
    "collapsed": true
   },
   "outputs": [],
   "source": []
  },
  {
   "cell_type": "code",
   "execution_count": null,
   "metadata": {
    "collapsed": true
   },
   "outputs": [],
   "source": []
  },
  {
   "cell_type": "code",
   "execution_count": null,
   "metadata": {
    "collapsed": true
   },
   "outputs": [],
   "source": []
  },
  {
   "cell_type": "code",
   "execution_count": null,
   "metadata": {
    "collapsed": true
   },
   "outputs": [],
   "source": []
  },
  {
   "cell_type": "code",
   "execution_count": null,
   "metadata": {
    "collapsed": true
   },
   "outputs": [],
   "source": []
  },
  {
   "cell_type": "code",
   "execution_count": null,
   "metadata": {
    "collapsed": false
   },
   "outputs": [],
   "source": [
    "# edge rolloff plot. Flux is diminished at low row numbers, near the serial register. \n",
    "fig5=plt.figure(5,[figwidth,figheight])\n",
    "plt.plot(pixeldata[0:30,200],'ro-')\n",
    "plt.xlabel(\"rows, from bottom of array\")\n"
   ]
  },
  {
   "cell_type": "code",
   "execution_count": null,
   "metadata": {
    "collapsed": false
   },
   "outputs": [],
   "source": [
    "# get better statistics by averaging multiple columns\n",
    "# picking axis=0 gives average of multiple rows, axis=1 is average of multiple columns\n",
    "# this averages columns 200 to 299\n",
    "avgcol=np.mean(pixeldata[0:2047,200:300],axis=1)\n",
    "\n",
    "# plot edge rolloff using averaged column, better statistics\n",
    "fig6=plt.figure(6,[figwidth,figheight])\n",
    "plt.plot(avgcol[0:30],'ro-')\n",
    "plt.grid()\n",
    "fig6.suptitle('rows at bottom of image, near serial register')\n",
    "\n",
    "# what about the upper edge, near the midline of the CCD? \n",
    "# this perturbation is due to midline bleed stop implant. It repels charge so top row is deficient but next \n",
    "# one catches the charge\n",
    "fig8=plt.figure(8,[figwidth,figheight])\n",
    "plt.plot(avgcol[1980:2002],'ro-')\n",
    "plt.grid()\n",
    "fig8.suptitle('rows at top of image, midline')"
   ]
  },
  {
   "cell_type": "code",
   "execution_count": null,
   "metadata": {
    "collapsed": false
   },
   "outputs": [],
   "source": [
    "# what is Response Non-Uniformity in column direction? Only use imaging pixels, presumes uniform illumination\n",
    "PRNUcol=avgcol[0:2002]/np.mean(avgcol[0:2002])\n",
    "fig8=plt.figure(8,[figwidth,figheight])\n",
    "plt.plot(PRNUcol,'ro-')\n",
    "plt.grid()\n",
    "fig8.suptitle('PRNU')\n",
    "plt.xlabel('row ')\n",
    "\n",
    "# dominated by edge rolloff at bottom and midline bleed artifact at the top. Omit those pixels \n",
    "PRNUtrim=PRNUcol[20:1900]\n",
    "fig9=plt.figure(9,[figwidth,figheight])\n",
    "plt.plot(PRNUtrim,'ro-')\n",
    "plt.grid()\n",
    "fig9.suptitle('trimmed PRNU')\n",
    "plt.xlabel('row ')\n",
    "\n",
    "# there is definitely a periodic low frequency modulation, that dominates the response. How about high frequencies? "
   ]
  },
  {
   "cell_type": "code",
   "execution_count": null,
   "metadata": {
    "collapsed": false
   },
   "outputs": [],
   "source": [
    "# implement high pass filter by taking median and subtracting it from the column average \n",
    "avgcol2=np.mean(pixeldata[15:1950,100:500],axis=1) # create an average column that excludes top and bottom of amplifier\n",
    "avgcol2_med = sc.signal.medfilt(avgcol2, 51)  # make low-pass filtered version of this using median over 51 pixel box\n",
    "avgcol2_HF=avgcol2-avgcol2_med # subtract off the low order structure to emphasize small scale structure\n",
    "\n",
    "# always make sure average is zero before taking an FFT!\n",
    "avgcol2_HF=avgcol2_HF-np.median(avgcol2_HF) \n",
    "\n",
    "# try a spatial Fourier transform \n",
    "from scipy.fftpack import fft, fftshift\n",
    "A = fft(avgcol2_HF, 2048) / (len(avgcol2_HF)/2.0)\n",
    "freq = np.linspace(-0.5, 0.5, len(A))  # this is cycles per sample, so cycles per pixel. \n",
    "FFTavgcol2 = 20 * np.log10(np.abs(fftshift(A / abs(A).max()))) # take log of power, dB units\n",
    "fig10=plt.figure(10,[figwidth,figheight])\n",
    "plt.plot(freq, FFTavgcol2)\n",
    "plt.axis([0, 0.5, -35 ,5])\n",
    "plt.xlabel(\"frequency, cycles per pixel\") # final element on right is Nyquist-sampled two cycles per pixel\n",
    "plt.ylabel(\"log of FFT strength, dB\")\n",
    "plt.grid()\n",
    "fig10.suptitle('FFT along a column')\n",
    "\n",
    "# looks like a peak and harmonics at ~10 pixel period, but not exactly locked to pixels. \n",
    "# Can we see that in spatial plot? Sort-of...\n",
    "\n",
    "fig11=plt.figure(11,[figwidth,figheight])\n",
    "plt.plot(avgcol2_HF[200:300],'ro-')\n",
    "plt.grid()\n",
    "fig11.suptitle('expansion of column')\n",
    "plt.xlabel('row ')\n",
    "\n",
    "# OK, "
   ]
  },
  {
   "cell_type": "code",
   "execution_count": null,
   "metadata": {
    "collapsed": false
   },
   "outputs": [],
   "source": [
    "# what is the temporal stability of the overscan, as each row is read out? \n",
    "# make an average column in the overscan region\n",
    "overscancolavg=np.mean(pixeldata[0:2047,530:543],axis=1)\n",
    "fig9=plt.figure(9)\n",
    "plt.plot(overscancolavg,'ro-')\n",
    "plt.grid()\n",
    "plt.xlabel('row')\n",
    "\n",
    "# Just for fun, try a polynomial fit to the overscan. Need a counter for this\n",
    "rowcountermax=overscancolavg.size\n",
    "rowcounter=[i for i in range(rowcountermax)]\n",
    "\n",
    "# fit to a quadratic\n",
    "quadfit=np.polyfit(rowcounter,overscancolavg,2)\n",
    "\n",
    "# evaluate the fit\n",
    "biasfit=np.polyval(quadfit,rowcounter)\n",
    "\n",
    "# plot fit and data\n",
    "fig10=plt.figure(10)\n",
    "plt.plot(rowcounter,overscancolavg,'ro')\n",
    "plt.plot(rowcounter,biasfit,'b',linewidth=4)\n",
    "plt.grid()\n",
    "plt.xlabel('row')\n",
    "\n",
    "print\"signal span of bias region is %s\" %(np.max(biasfit)-np.min(biasfit))\n"
   ]
  },
  {
   "cell_type": "code",
   "execution_count": null,
   "metadata": {
    "collapsed": false
   },
   "outputs": [],
   "source": [
    "# what about in the other direction? \n",
    "row_100_200avg=np.mean(pixeldata[100:200,:],axis=0) # make average of rows 100 to 199\n",
    "\n",
    "fig11=plt.figure(11,[figwidth,figheight])\n",
    "plt.plot(row_100_200avg,'bo-')\n",
    "plt.xlim(xmin=450)\n",
    "plt.grid()\n",
    "plt.xlabel('column number')\n",
    "plt.ylabel('ADU')\n"
   ]
  },
  {
   "cell_type": "code",
   "execution_count": null,
   "metadata": {
    "collapsed": false
   },
   "outputs": [],
   "source": [
    "# yuk! is that edge rolloff at the right edge of the imaging array? Look at an interior amp instead...\n",
    "\n",
    "# pick extension 5 of the FITS file\n",
    "pixeldata5=hdulist[5].data\n",
    "\n",
    "# average a few rows together and plot the result\n",
    "row_100_200avg_5=np.mean(pixeldata5[100:200,:],axis=0)\n",
    "print \"first few values of overscan region are %s\" %row_100_200avg_5[520:523]\n",
    "\n",
    "fig12=plt.figure(12,[figwidth,figheight])\n",
    "plt.plot(row_100_200avg_5,'bo-')\n",
    "plt.xlim(xmin=480)\n"
   ]
  },
  {
   "cell_type": "code",
   "execution_count": null,
   "metadata": {
    "collapsed": false
   },
   "outputs": [],
   "source": [
    "# looks like 523 to 544 are useful. \n",
    "readnoise5=np.std(pixeldata5[:,523:544])\n",
    "print \"read noise from overscan is %.2f ADU\" %readnoise5 "
   ]
  },
  {
   "cell_type": "code",
   "execution_count": null,
   "metadata": {
    "collapsed": false
   },
   "outputs": [],
   "source": [
    "# what happens if we start including pixels that aren't clean bias ones?\n",
    "print \"including first overscan column gives read noise of %.2f ADU\" %np.std(pixeldata5[:,522:544])\n",
    "print \"including last data region column gives read noise of %.2f ADU, and that ain't right! \" %np.std(pixeldata5[:,521:544]) \n"
   ]
  },
  {
   "cell_type": "code",
   "execution_count": null,
   "metadata": {
    "collapsed": false
   },
   "outputs": [],
   "source": [
    "# try for CTE determination\n",
    "row_CTE_trimmed=np.mean(pixeldata5[100:200,521:544],axis=0)\n",
    "row_CTE_trimmed.size\n",
    "\n",
    "row_CTE_trimmed_debiased=row_CTE_trimmed-np.mean(row_CTE_trimmed[5:23])\n",
    "\n",
    "# make all numbers non-negative\n",
    "row_CTE_trimmed_debiased_abs=np.abs(row_CTE_trimmed_debiased)\n",
    "# check that this worked\n",
    "print \"smallest value is %s\" %np.min(row_CTE_trimmed_debiased_abs)\n",
    "\n",
    "\n",
    "# first overscan pixel has a fraction (1-CTE) of last imaging pixel's flux\n",
    "print \"simplistic CTE estimate is %s\" %(1-row_CTE_trimmed_debiased_abs[1]/row_CTE_trimmed_debiased_abs[0])\n",
    "\n"
   ]
  },
  {
   "cell_type": "code",
   "execution_count": null,
   "metadata": {
    "collapsed": false
   },
   "outputs": [],
   "source": [
    "# try using a fit with log of abs(data). Each pixel should be I(n)=I(0)*(1-CTE)^n\n",
    "logCTEarray=np.log10(row_CTE_trimmed_debiased_abs)\n",
    "\n",
    "fig13=plt.figure(13)\n",
    "plt.plot(logCTEarray,'bo-')\n",
    "plt.grid()\n",
    "plt.ylabel('log_10 of flux')\n",
    "plt.xlabel('overscan location')\n",
    "\n",
    "# try using more pixels:\n",
    "counter=np.array([1, 2, 3])\n",
    "\n",
    "CTEfit=np.polyfit(counter,logCTEarray[0:3],1)\n",
    "CTEfit_eval=np.polyval(CTEfit,counter)\n",
    "\n",
    "fig14=plt.figure(14)\n",
    "plt.plot(counter,logCTEarray[0:3],'bo')\n",
    "plt.plot(counter,CTEfit_eval,'k')\n",
    "plt.xlim(xmin=0.8)\n",
    "plt.xlim(xmax=3.2)\n",
    "plt.grid()\n",
    "\n",
    "\n",
    "# that wasn't very successful- measuring CTE is hard if signature is not evident.\n"
   ]
  },
  {
   "cell_type": "code",
   "execution_count": null,
   "metadata": {
    "collapsed": false
   },
   "outputs": [],
   "source": [
    "# construct bias-subtracted, trimmed image\n",
    "\n",
    "# compute bias level from the overscan\n",
    "print \"bias value is %s\" %np.mean(pixeldata5[0:2047,524:540])\n",
    "\n",
    "pixeldata5_bias=pixeldata5-np.mean(pixeldata5[0:2047,524:540])\n",
    "\n",
    "# keep amending array name as successive operations are applied\n",
    "pixeldata5_bias_trimmed=pixeldata5_bias[0:2002,10:522]\n",
    "\n",
    "# let's try to auto-scale the display\n",
    "sortedpixels=np.sort(pixeldata5_bias_trimmed.flat)\n",
    "\n",
    "lowestpixel=sortedpixels[0]\n",
    "highestpixel=sortedpixels[-1]\n",
    "\n",
    "print(\"lowest pixel value is %s\") %lowestpixel\n",
    "print(\"higheset pixel value is %s\") %highestpixel\n",
    "\n",
    "# scale to 5% and 95% values\n",
    "\n",
    "fivepercent=sortedpixels[np.int(0.05*len(sortedpixels))]\n",
    "ninetyfivepercent=sortedpixels[np.int(0.95*len(sortedpixels))]\n",
    "\n",
    "fig16=plt.figure(16,[figwidth,figheight])\n",
    "plt.imshow(pixeldata5_bias_trimmed,cmap='jet',vmin=fivepercent,vmax=ninetyfivepercent,origin='lower')\n",
    "plt.colorbar()\n"
   ]
  },
  {
   "cell_type": "code",
   "execution_count": null,
   "metadata": {
    "collapsed": true
   },
   "outputs": [],
   "source": []
  }
 ],
 "metadata": {
  "kernelspec": {
   "display_name": "Python 2",
   "language": "python",
   "name": "python2"
  },
  "language_info": {
   "codemirror_mode": {
    "name": "ipython",
    "version": 2
   },
   "file_extension": ".py",
   "mimetype": "text/x-python",
   "name": "python",
   "nbconvert_exporter": "python",
   "pygments_lexer": "ipython2",
   "version": "2.7.11"
  }
 },
 "nbformat": 4,
 "nbformat_minor": 0
}
