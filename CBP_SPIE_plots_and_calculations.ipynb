{
 "cells": [
  {
   "cell_type": "code",
   "execution_count": 1,
   "metadata": {
    "collapsed": true
   },
   "outputs": [],
   "source": [
    "import functions as fn\n",
    "fn = reload(fn)"
   ]
  },
  {
   "cell_type": "code",
   "execution_count": 2,
   "metadata": {
    "collapsed": false
   },
   "outputs": [
    {
     "data": {
      "text/html": [
       "<style>.container { width:90% !important; }</style>"
      ],
      "text/plain": [
       "<IPython.core.display.HTML object>"
      ]
     },
     "execution_count": 2,
     "metadata": {},
     "output_type": "execute_result"
    }
   ],
   "source": [
    "from IPython.core.display import HTML\n",
    "HTML(\"<style>.container { width:90% !important; }</style>\")"
   ]
  },
  {
   "cell_type": "code",
   "execution_count": 3,
   "metadata": {
    "collapsed": true
   },
   "outputs": [],
   "source": [
    "CURRENT_FRAME = 0\n",
    "def GetNextFrame():\n",
    "    global CURRENT_FRAME\n",
    "    CURRENT_FRAME += 1\n",
    "    return CURRENT_FRAME-1"
   ]
  },
  {
   "cell_type": "code",
   "execution_count": 4,
   "metadata": {
    "collapsed": false
   },
   "outputs": [],
   "source": [
    "import lsst.afw.image as afwImage\n",
    "import lsst.obs.decam as obs_decam"
   ]
  },
  {
   "cell_type": "code",
   "execution_count": 5,
   "metadata": {
    "collapsed": false
   },
   "outputs": [],
   "source": [
    "import os\n",
    "import numpy as np\n",
    "import lsst.daf.persistence as dafPersist\n",
    "import lsst.afw.display.ds9 as ds9\n",
    "# import lsst.afw.display as afwDisplay\n",
    "\n",
    "import lsst.afw.geom as afwGeom\n",
    "import lsst.afw.detection as afwDetect\n",
    "import lsst.afw.geom.ellipses as afwEllipse\n",
    "import lsst.afw.cameraGeom as cameraGeom\n",
    "import matplotlib.pyplot as plt\n",
    "%matplotlib inline"
   ]
  },
  {
   "cell_type": "code",
   "execution_count": 6,
   "metadata": {
    "collapsed": true
   },
   "outputs": [],
   "source": [
    "def getCCDnameFromNum(num):\n",
    "    import lsst.daf.persistence as dafPersist\n",
    "    try:\n",
    "        camera\n",
    "        temp_camera = camera\n",
    "    except NameError:\n",
    "        temp_butler = dafPersist.Butler('/nfs/lsst2/photocalData/data/decam/rerun/3')\n",
    "        temp_camera = temp_butler.get('camera')\n",
    "        del temp_butler\n",
    "\n",
    "    name_dict = dict([(_.getName(), _.getId()) for _ in temp_camera])\n",
    "    num_dict = dict([(_.getId(), _.getName()) for _ in temp_camera])\n",
    "    try:\n",
    "        return num_dict[num]\n",
    "    except:\n",
    "        return ''\n",
    "    \n",
    "def getCCDNumFromName(name):\n",
    "    import lsst.daf.persistence as dafPersist\n",
    "    try:\n",
    "        camera\n",
    "        temp_camera = camera\n",
    "    except NameError:\n",
    "        temp_butler = dafPersist.Butler('/nfs/lsst2/photocalData/data/decam/rerun/3')\n",
    "        temp_camera = temp_butler.get('camera')\n",
    "        del temp_butler\n",
    "\n",
    "    name_dict = dict([(_.getName(), _.getId()) for _ in temp_camera])\n",
    "    num_dict = dict([(_.getId(), _.getName()) for _ in temp_camera])\n",
    "    try:\n",
    "        return name_dict[name]\n",
    "    except:\n",
    "        return ''"
   ]
  },
  {
   "cell_type": "code",
   "execution_count": 7,
   "metadata": {
    "collapsed": false
   },
   "outputs": [],
   "source": [
    "plt.rcParams['figure.figsize'] = (13, 8) if False else (10, 6)"
   ]
  },
  {
   "cell_type": "code",
   "execution_count": 8,
   "metadata": {
    "collapsed": false
   },
   "outputs": [],
   "source": [
    "# def ds9_one_ccd(rerun, visit, product, ccdname, binning=8, date='2015-11-25',filter='r', showMaskPlanes=False):\n",
    "#     import lsst.daf.persistence as dafPersist\n",
    "#     import lsst.afw.display.ds9 as ds9\n",
    "#     import lsst.afw.cameraGeom.utils as camGeomUtils\n",
    "\n",
    "#     butler = dafPersist.Butler('/nfs/lsst2/photocalData/data/decam/rerun/'+str(rerun))\n",
    "#     camera = butler.get(\"camera\")\n",
    "\n",
    "#     exp = butler.get(product, visit=visit,date=date, filter=filter, ccdnum=getCCDNumFromName(ccdname), immediate=True)\n",
    "    \n",
    "#     if showMaskPlanes:\n",
    "#         image = exp\n",
    "#     else:\n",
    "#         image = exp.getMaskedImage().getImage()\n",
    "    \n",
    "#     title = 'rerun %s, visit %s, %s, %s(%s)'%(rerun, visit, product, ccdname, getCCDNumFromName(ccdname))\n",
    "#     ds9.mtv(image, frame=GetNextFrame(), title=title)\n",
    "\n",
    "\n",
    "# def ds9_focalplane(rerun, visit, product, binning=8, date='2015-11-25',filter='r'):\n",
    "#     import lsst.daf.persistence as dafPersist\n",
    "#     import lsst.afw.display.ds9 as ds9\n",
    "#     import lsst.afw.cameraGeom.utils as camGeomUtils\n",
    "\n",
    "#     butler = dafPersist.Butler('/nfs/lsst2/photocalData/data/decam/rerun/'+str(rerun))\n",
    "#     camera = butler.get(\"camera\")\n",
    "\n",
    "#     imageSource = camGeomUtils.ButlerImage(butler, product, visit=visit, verbose=True, date=date, filter=filter)\n",
    "#     image = camGeomUtils.showCamera(camera, imageSource=imageSource, title=str(visit), binSize=binning)\n",
    "    \n",
    "#     title = 'rerun %s, visit %s, %s, %s-pix binning'%(rerun, visit, product, binning)\n",
    "#     ds9.mtv(image, frame=GetNextFrame(), title=title)\n"
   ]
  },
  {
   "cell_type": "code",
   "execution_count": null,
   "metadata": {
    "collapsed": false
   },
   "outputs": [],
   "source": [
    "# ds9_one_ccd(5,496547,'calexp', 'S4')\n",
    "# ds9_focalplane(5,9000001,'calexp',binning=1)\n",
    "# ds9_focalplane(6,496492,'calexp')\n",
    "# ds9_one_ccd(6,496492,'calexp', 'N3', showMaskPlanes=True)"
   ]
  },
  {
   "cell_type": "code",
   "execution_count": 9,
   "metadata": {
    "collapsed": false,
    "scrolled": true
   },
   "outputs": [
    {
     "name": "stdout",
     "output_type": "stream",
     "text": [
      "Reading 1: No unique lookup for ['ccdnum'] from {'filter': 'r', 'date': '2015-11-25', 'visit': 496428, 'ccd': 1}: 2 matches\n",
      "Reading 2: No unique lookup for ['ccdnum'] from {'filter': 'r', 'date': '2015-11-25', 'visit': 496428, 'ccd': 2}: 2 matches\n",
      "Reading 3: No unique lookup for ['ccdnum'] from {'filter': 'r', 'date': '2015-11-25', 'visit': 496428, 'ccd': 3}: 2 matches\n",
      "Reading 4: No unique lookup for ['ccdnum'] from {'filter': 'r', 'date': '2015-11-25', 'visit': 496428, 'ccd': 4}: 2 matches\n",
      "Reading 5: No unique lookup for ['ccdnum'] from {'filter': 'r', 'date': '2015-11-25', 'visit': 496428, 'ccd': 5}: 2 matches\n",
      "Reading 6: No unique lookup for ['ccdnum'] from {'filter': 'r', 'date': '2015-11-25', 'visit': 496428, 'ccd': 6}: 2 matches\n",
      "Reading 7: No unique lookup for ['ccdnum'] from {'filter': 'r', 'date': '2015-11-25', 'visit': 496428, 'ccd': 7}: 2 matches\n",
      "Reading 8: No unique lookup for ['ccdnum'] from {'filter': 'r', 'date': '2015-11-25', 'visit': 496428, 'ccd': 8}: 2 matches\n",
      "Reading 9: No unique lookup for ['ccdnum'] from {'filter': 'r', 'date': '2015-11-25', 'visit': 496428, 'ccd': 9}: 2 matches\n",
      "Reading 10: No unique lookup for ['ccdnum'] from {'filter': 'r', 'date': '2015-11-25', 'visit': 496428, 'ccd': 10}: 2 matches\n",
      "Reading 11: No unique lookup for ['ccdnum'] from {'filter': 'r', 'date': '2015-11-25', 'visit': 496428, 'ccd': 11}: 2 matches\n",
      "Reading 12: No unique lookup for ['ccdnum'] from {'filter': 'r', 'date': '2015-11-25', 'visit': 496428, 'ccd': 12}: 2 matches\n",
      "Reading 13: No unique lookup for ['ccdnum'] from {'filter': 'r', 'date': '2015-11-25', 'visit': 496428, 'ccd': 13}: 2 matches\n",
      "Reading 14: No unique lookup for ['ccdnum'] from {'filter': 'r', 'date': '2015-11-25', 'visit': 496428, 'ccd': 14}: 2 matches\n",
      "Reading 15: No unique lookup for ['ccdnum'] from {'filter': 'r', 'date': '2015-11-25', 'visit': 496428, 'ccd': 15}: 2 matches\n",
      "Reading 16: No unique lookup for ['ccdnum'] from {'filter': 'r', 'date': '2015-11-25', 'visit': 496428, 'ccd': 16}: 2 matches\n",
      "Reading 17: No unique lookup for ['ccdnum'] from {'filter': 'r', 'date': '2015-11-25', 'visit': 496428, 'ccd': 17}: 2 matches\n",
      "Reading 18: No unique lookup for ['ccdnum'] from {'filter': 'r', 'date': '2015-11-25', 'visit': 496428, 'ccd': 18}: 2 matches\n",
      "Reading 19: No unique lookup for ['ccdnum'] from {'filter': 'r', 'date': '2015-11-25', 'visit': 496428, 'ccd': 19}: 2 matches\n",
      "Reading 20: No unique lookup for ['ccdnum'] from {'filter': 'r', 'date': '2015-11-25', 'visit': 496428, 'ccd': 20}: 2 matches\n",
      "Reading 21: No unique lookup for ['ccdnum'] from {'filter': 'r', 'date': '2015-11-25', 'visit': 496428, 'ccd': 21}: 2 matches\n",
      "Reading 22: No unique lookup for ['ccdnum'] from {'filter': 'r', 'date': '2015-11-25', 'visit': 496428, 'ccd': 22}: 2 matches\n",
      "Reading 23: No unique lookup for ['ccdnum'] from {'filter': 'r', 'date': '2015-11-25', 'visit': 496428, 'ccd': 23}: 2 matches\n",
      "Reading 24: No unique lookup for ['ccdnum'] from {'filter': 'r', 'date': '2015-11-25', 'visit': 496428, 'ccd': 24}: 2 matches\n",
      "Reading 25: No unique lookup for ['ccdnum'] from {'filter': 'r', 'date': '2015-11-25', 'visit': 496428, 'ccd': 25}: 2 matches\n",
      "Reading 26: No unique lookup for ['ccdnum'] from {'filter': 'r', 'date': '2015-11-25', 'visit': 496428, 'ccd': 26}: 2 matches\n",
      "Reading 27: No unique lookup for ['ccdnum'] from {'filter': 'r', 'date': '2015-11-25', 'visit': 496428, 'ccd': 27}: 2 matches\n",
      "Reading 28: No unique lookup for ['ccdnum'] from {'filter': 'r', 'date': '2015-11-25', 'visit': 496428, 'ccd': 28}: 2 matches\n",
      "Reading 29: No unique lookup for ['ccdnum'] from {'filter': 'r', 'date': '2015-11-25', 'visit': 496428, 'ccd': 29}: 2 matches\n",
      "Reading 30: \n",
      "  File \"src/fits.cc\", line 1067, in lsst::afw::fits::Fits::Fits(const string&, const string&, int)\n",
      "    cfitsio error: could not open the named file (104) : Opening file '/nfs/lsst2/photocalData/data/scratch6/0496428/postISR/postISR-0496428_02.fits' with mode 'r' {0}\n",
      "lsst::afw::fits::FitsError: 'cfitsio error: could not open the named file (104) : Opening file '/nfs/lsst2/photocalData/data/scratch6/0496428/postISR/postISR-0496428_02.fits' with mode 'r''\n",
      "\n",
      "Reading 31: No unique lookup for ['ccdnum'] from {'filter': 'r', 'date': '2015-11-25', 'visit': 496428, 'ccd': 31}: 2 matches\n",
      "Reading 32: No unique lookup for ['ccdnum'] from {'filter': 'r', 'date': '2015-11-25', 'visit': 496428, 'ccd': 32}: 0 matches\n",
      "Reading 33: No unique lookup for ['ccdnum'] from {'filter': 'r', 'date': '2015-11-25', 'visit': 496428, 'ccd': 33}: 0 matches\n",
      "Reading 34: No unique lookup for ['ccdnum'] from {'filter': 'r', 'date': '2015-11-25', 'visit': 496428, 'ccd': 34}: 0 matches\n",
      "Reading 35: No unique lookup for ['ccdnum'] from {'filter': 'r', 'date': '2015-11-25', 'visit': 496428, 'ccd': 35}: 0 matches\n",
      "Reading 36: No unique lookup for ['ccdnum'] from {'filter': 'r', 'date': '2015-11-25', 'visit': 496428, 'ccd': 36}: 0 matches\n",
      "Reading 37: No unique lookup for ['ccdnum'] from {'filter': 'r', 'date': '2015-11-25', 'visit': 496428, 'ccd': 37}: 0 matches\n",
      "Reading 38: No unique lookup for ['ccdnum'] from {'filter': 'r', 'date': '2015-11-25', 'visit': 496428, 'ccd': 38}: 0 matches\n",
      "Reading 39: No unique lookup for ['ccdnum'] from {'filter': 'r', 'date': '2015-11-25', 'visit': 496428, 'ccd': 39}: 0 matches\n",
      "Reading 40: No unique lookup for ['ccdnum'] from {'filter': 'r', 'date': '2015-11-25', 'visit': 496428, 'ccd': 40}: 0 matches\n",
      "Reading 41: No unique lookup for ['ccdnum'] from {'filter': 'r', 'date': '2015-11-25', 'visit': 496428, 'ccd': 41}: 0 matches\n",
      "Reading 42: No unique lookup for ['ccdnum'] from {'filter': 'r', 'date': '2015-11-25', 'visit': 496428, 'ccd': 42}: 0 matches\n",
      "Reading 43: No unique lookup for ['ccdnum'] from {'filter': 'r', 'date': '2015-11-25', 'visit': 496428, 'ccd': 43}: 0 matches\n",
      "Reading 44: No unique lookup for ['ccdnum'] from {'filter': 'r', 'date': '2015-11-25', 'visit': 496428, 'ccd': 44}: 0 matches\n",
      "Reading 45: No unique lookup for ['ccdnum'] from {'filter': 'r', 'date': '2015-11-25', 'visit': 496428, 'ccd': 45}: 0 matches\n",
      "Reading 46: No unique lookup for ['ccdnum'] from {'filter': 'r', 'date': '2015-11-25', 'visit': 496428, 'ccd': 46}: 0 matches\n",
      "Reading 47: No unique lookup for ['ccdnum'] from {'filter': 'r', 'date': '2015-11-25', 'visit': 496428, 'ccd': 47}: 0 matches\n",
      "Reading 48: No unique lookup for ['ccdnum'] from {'filter': 'r', 'date': '2015-11-25', 'visit': 496428, 'ccd': 48}: 0 matches\n",
      "Reading 49: No unique lookup for ['ccdnum'] from {'filter': 'r', 'date': '2015-11-25', 'visit': 496428, 'ccd': 49}: 0 matches\n",
      "Reading 50: No unique lookup for ['ccdnum'] from {'filter': 'r', 'date': '2015-11-25', 'visit': 496428, 'ccd': 50}: 0 matches\n",
      "Reading 51: No unique lookup for ['ccdnum'] from {'filter': 'r', 'date': '2015-11-25', 'visit': 496428, 'ccd': 51}: 0 matches\n",
      "Reading 52: No unique lookup for ['ccdnum'] from {'filter': 'r', 'date': '2015-11-25', 'visit': 496428, 'ccd': 52}: 0 matches\n",
      "Reading 53: No unique lookup for ['ccdnum'] from {'filter': 'r', 'date': '2015-11-25', 'visit': 496428, 'ccd': 53}: 0 matches\n",
      "Reading 54: No unique lookup for ['ccdnum'] from {'filter': 'r', 'date': '2015-11-25', 'visit': 496428, 'ccd': 54}: 0 matches\n",
      "Reading 55: No unique lookup for ['ccdnum'] from {'filter': 'r', 'date': '2015-11-25', 'visit': 496428, 'ccd': 55}: 0 matches\n",
      "Reading 56: No unique lookup for ['ccdnum'] from {'filter': 'r', 'date': '2015-11-25', 'visit': 496428, 'ccd': 56}: 0 matches\n",
      "Reading 57: No unique lookup for ['ccdnum'] from {'filter': 'r', 'date': '2015-11-25', 'visit': 496428, 'ccd': 57}: 0 matches\n",
      "Reading 58: No unique lookup for ['ccdnum'] from {'filter': 'r', 'date': '2015-11-25', 'visit': 496428, 'ccd': 58}: 0 matches\n",
      "Reading 59: No unique lookup for ['ccdnum'] from {'filter': 'r', 'date': '2015-11-25', 'visit': 496428, 'ccd': 59}: 0 matches\n",
      "Reading 60: No unique lookup for ['ccdnum'] from {'filter': 'r', 'date': '2015-11-25', 'visit': 496428, 'ccd': 60}: 0 matches\n",
      "Reading 61: No unique lookup for ['ccdnum'] from {'filter': 'r', 'date': '2015-11-25', 'visit': 496428, 'ccd': 61}: 0 matches\n",
      "Reading 62: No unique lookup for ['ccdnum'] from {'filter': 'r', 'date': '2015-11-25', 'visit': 496428, 'ccd': 62}: 0 matches\n"
     ]
    },
    {
     "ename": "NameError",
     "evalue": "ds9 doesn't appear to be on your path",
     "output_type": "error",
     "traceback": [
      "\u001b[1;31m---------------------------------------------------------------------------\u001b[0m",
      "\u001b[1;31mNameError\u001b[0m                                 Traceback (most recent call last)",
      "\u001b[1;32m<ipython-input-9-11a7249ecc2f>\u001b[0m in \u001b[0;36m<module>\u001b[1;34m()\u001b[0m\n\u001b[0;32m     31\u001b[0m \u001b[1;31m#                                      frame=frame)#, ccdKey=\"ccdnum\")\u001b[0m\u001b[1;33m\u001b[0m\u001b[1;33m\u001b[0m\u001b[0m\n\u001b[0;32m     32\u001b[0m \u001b[1;33m\u001b[0m\u001b[0m\n\u001b[1;32m---> 33\u001b[1;33m \u001b[0mds9\u001b[0m\u001b[1;33m.\u001b[0m\u001b[0mmtv\u001b[0m\u001b[1;33m(\u001b[0m\u001b[0mmos\u001b[0m\u001b[1;33m[\u001b[0m\u001b[0mstr\u001b[0m\u001b[1;33m(\u001b[0m\u001b[1;33m[\u001b[0m\u001b[0mvisit\u001b[0m\u001b[1;33m,\u001b[0m\u001b[0mbinning\u001b[0m\u001b[1;33m,\u001b[0m\u001b[0mproduct\u001b[0m\u001b[1;33m]\u001b[0m\u001b[1;33m)\u001b[0m\u001b[1;33m]\u001b[0m\u001b[1;33m,\u001b[0m \u001b[0mframe\u001b[0m\u001b[1;33m=\u001b[0m\u001b[0mGetNextFrame\u001b[0m\u001b[1;33m(\u001b[0m\u001b[1;33m)\u001b[0m\u001b[1;33m,\u001b[0m \u001b[0mtitle\u001b[0m\u001b[1;33m=\u001b[0m\u001b[0mstr\u001b[0m\u001b[1;33m(\u001b[0m\u001b[0mvisit\u001b[0m\u001b[1;33m)\u001b[0m\u001b[1;33m+\u001b[0m\u001b[0mproduct\u001b[0m\u001b[1;33m+\u001b[0m\u001b[1;34m',binned_'\u001b[0m\u001b[1;33m+\u001b[0m\u001b[0mstr\u001b[0m\u001b[1;33m(\u001b[0m\u001b[0mbinning\u001b[0m\u001b[1;33m)\u001b[0m\u001b[1;33m)\u001b[0m\u001b[1;33m\u001b[0m\u001b[0m\n\u001b[0m",
      "\u001b[1;32m/ssd/mfisherlevine/lsstsw/stack/Linux64/afw/2.2016.10-22-gfc355a9/python/lsst/afw/display/ds9.pyc\u001b[0m in \u001b[0;36mmtv\u001b[1;34m(data, frame, title, wcs, *args, **kwargs)\u001b[0m\n\u001b[0;32m     78\u001b[0m \u001b[1;33m\u001b[0m\u001b[0m\n\u001b[0;32m     79\u001b[0m \u001b[1;32mdef\u001b[0m \u001b[0mmtv\u001b[0m\u001b[1;33m(\u001b[0m\u001b[0mdata\u001b[0m\u001b[1;33m,\u001b[0m \u001b[0mframe\u001b[0m\u001b[1;33m=\u001b[0m\u001b[0mNone\u001b[0m\u001b[1;33m,\u001b[0m \u001b[0mtitle\u001b[0m\u001b[1;33m=\u001b[0m\u001b[1;34m\"\"\u001b[0m\u001b[1;33m,\u001b[0m \u001b[0mwcs\u001b[0m\u001b[1;33m=\u001b[0m\u001b[0mNone\u001b[0m\u001b[1;33m,\u001b[0m \u001b[1;33m*\u001b[0m\u001b[0margs\u001b[0m\u001b[1;33m,\u001b[0m \u001b[1;33m**\u001b[0m\u001b[0mkwargs\u001b[0m\u001b[1;33m)\u001b[0m\u001b[1;33m:\u001b[0m\u001b[1;33m\u001b[0m\u001b[0m\n\u001b[1;32m---> 80\u001b[1;33m     \u001b[1;32mreturn\u001b[0m \u001b[0mgetDisplay\u001b[0m\u001b[1;33m(\u001b[0m\u001b[0mframe\u001b[0m\u001b[1;33m,\u001b[0m \u001b[0mcreate\u001b[0m\u001b[1;33m=\u001b[0m\u001b[0mTrue\u001b[0m\u001b[1;33m)\u001b[0m\u001b[1;33m.\u001b[0m\u001b[0mmtv\u001b[0m\u001b[1;33m(\u001b[0m\u001b[0mdata\u001b[0m\u001b[1;33m,\u001b[0m \u001b[0mtitle\u001b[0m\u001b[1;33m,\u001b[0m \u001b[0mwcs\u001b[0m\u001b[1;33m,\u001b[0m \u001b[1;33m*\u001b[0m\u001b[0margs\u001b[0m\u001b[1;33m,\u001b[0m \u001b[1;33m**\u001b[0m\u001b[0mkwargs\u001b[0m\u001b[1;33m)\u001b[0m\u001b[1;33m\u001b[0m\u001b[0m\n\u001b[0m\u001b[0;32m     81\u001b[0m \u001b[1;33m\u001b[0m\u001b[0m\n\u001b[0;32m     82\u001b[0m \u001b[1;32mdef\u001b[0m \u001b[0merase\u001b[0m\u001b[1;33m(\u001b[0m\u001b[0mframe\u001b[0m\u001b[1;33m=\u001b[0m\u001b[0mNone\u001b[0m\u001b[1;33m)\u001b[0m\u001b[1;33m:\u001b[0m\u001b[1;33m\u001b[0m\u001b[0m\n",
      "\u001b[1;32m/ssd/mfisherlevine/lsstsw/stack/Linux64/afw/2.2016.10-22-gfc355a9/python/lsst/afw/display/interface.pyc\u001b[0m in \u001b[0;36mmtv\u001b[1;34m(self, data, title, wcs)\u001b[0m\n\u001b[0;32m    374\u001b[0m \u001b[1;33m\u001b[0m\u001b[0m\n\u001b[0;32m    375\u001b[0m         \u001b[1;32mif\u001b[0m \u001b[0mre\u001b[0m\u001b[1;33m.\u001b[0m\u001b[0msearch\u001b[0m\u001b[1;33m(\u001b[0m\u001b[1;34m\"::Image<\"\u001b[0m\u001b[1;33m,\u001b[0m \u001b[0mrepr\u001b[0m\u001b[1;33m(\u001b[0m\u001b[0mdata\u001b[0m\u001b[1;33m)\u001b[0m\u001b[1;33m)\u001b[0m\u001b[1;33m:\u001b[0m \u001b[1;31m# it's an Image; display it\u001b[0m\u001b[1;33m\u001b[0m\u001b[0m\n\u001b[1;32m--> 376\u001b[1;33m             \u001b[0mself\u001b[0m\u001b[1;33m.\u001b[0m\u001b[0m_impl\u001b[0m\u001b[1;33m.\u001b[0m\u001b[0m_mtv\u001b[0m\u001b[1;33m(\u001b[0m\u001b[0mdata\u001b[0m\u001b[1;33m,\u001b[0m \u001b[0mNone\u001b[0m\u001b[1;33m,\u001b[0m \u001b[0mwcs\u001b[0m\u001b[1;33m,\u001b[0m \u001b[0mtitle\u001b[0m\u001b[1;33m)\u001b[0m\u001b[1;33m\u001b[0m\u001b[0m\n\u001b[0m\u001b[0;32m    377\u001b[0m         \u001b[1;32melif\u001b[0m \u001b[0mre\u001b[0m\u001b[1;33m.\u001b[0m\u001b[0msearch\u001b[0m\u001b[1;33m(\u001b[0m\u001b[1;34m\"::Mask<\"\u001b[0m\u001b[1;33m,\u001b[0m \u001b[0mrepr\u001b[0m\u001b[1;33m(\u001b[0m\u001b[0mdata\u001b[0m\u001b[1;33m)\u001b[0m\u001b[1;33m)\u001b[0m\u001b[1;33m:\u001b[0m \u001b[1;31m# it's a Mask; display it, bitplane by bitplane\u001b[0m\u001b[1;33m\u001b[0m\u001b[0m\n\u001b[0;32m    378\u001b[0m             \u001b[1;31m#\u001b[0m\u001b[1;33m\u001b[0m\u001b[1;33m\u001b[0m\u001b[0m\n",
      "\u001b[1;32m/ssd/mfisherlevine/lsstsw/stack/Linux64/display_ds9/2015_10.0+89/python/lsst/display/ds9/ds9.py\u001b[0m in \u001b[0;36m_mtv\u001b[1;34m(self, image, mask, wcs, title)\u001b[0m\n\u001b[0;32m    279\u001b[0m         \u001b[1;32mfor\u001b[0m \u001b[0mi\u001b[0m \u001b[1;32min\u001b[0m \u001b[0mrange\u001b[0m\u001b[1;33m(\u001b[0m\u001b[1;36m3\u001b[0m\u001b[1;33m)\u001b[0m\u001b[1;33m:\u001b[0m\u001b[1;33m\u001b[0m\u001b[0m\n\u001b[0;32m    280\u001b[0m             \u001b[1;32mtry\u001b[0m\u001b[1;33m:\u001b[0m\u001b[1;33m\u001b[0m\u001b[0m\n\u001b[1;32m--> 281\u001b[1;33m                 \u001b[0minitDS9\u001b[0m\u001b[1;33m(\u001b[0m\u001b[0mi\u001b[0m \u001b[1;33m==\u001b[0m \u001b[1;36m0\u001b[0m\u001b[1;33m)\u001b[0m\u001b[1;33m\u001b[0m\u001b[0m\n\u001b[0m\u001b[0;32m    282\u001b[0m             \u001b[1;32mexcept\u001b[0m \u001b[0mDs9Error\u001b[0m\u001b[1;33m:\u001b[0m\u001b[1;33m\u001b[0m\u001b[0m\n\u001b[0;32m    283\u001b[0m                 \u001b[1;32mprint\u001b[0m\u001b[1;33m(\u001b[0m\u001b[1;34m\"waiting for ds9...\\r\"\u001b[0m\u001b[1;33m,\u001b[0m \u001b[0mend\u001b[0m\u001b[1;33m=\u001b[0m\u001b[1;34m\"\"\u001b[0m\u001b[1;33m)\u001b[0m\u001b[1;33m\u001b[0m\u001b[0m\n",
      "\u001b[1;32m/ssd/mfisherlevine/lsstsw/stack/Linux64/display_ds9/2015_10.0+89/python/lsst/display/ds9/ds9.py\u001b[0m in \u001b[0;36minitDS9\u001b[1;34m(execDs9)\u001b[0m\n\u001b[0;32m    217\u001b[0m         \u001b[1;32mimport\u001b[0m \u001b[0mdistutils\u001b[0m\u001b[1;33m.\u001b[0m\u001b[0mspawn\u001b[0m\u001b[1;33m\u001b[0m\u001b[0m\n\u001b[0;32m    218\u001b[0m         \u001b[1;32mif\u001b[0m \u001b[1;32mnot\u001b[0m \u001b[0mdistutils\u001b[0m\u001b[1;33m.\u001b[0m\u001b[0mspawn\u001b[0m\u001b[1;33m.\u001b[0m\u001b[0mfind_executable\u001b[0m\u001b[1;33m(\u001b[0m\u001b[1;34m\"ds9\"\u001b[0m\u001b[1;33m)\u001b[0m\u001b[1;33m:\u001b[0m\u001b[1;33m\u001b[0m\u001b[0m\n\u001b[1;32m--> 219\u001b[1;33m             \u001b[1;32mraise\u001b[0m \u001b[0mNameError\u001b[0m\u001b[1;33m(\u001b[0m\u001b[1;34m\"ds9 doesn't appear to be on your path\"\u001b[0m\u001b[1;33m)\u001b[0m\u001b[1;33m\u001b[0m\u001b[0m\n\u001b[0m\u001b[0;32m    220\u001b[0m         \u001b[1;32mif\u001b[0m \u001b[1;32mnot\u001b[0m \u001b[1;34m\"DISPLAY\"\u001b[0m \u001b[1;32min\u001b[0m \u001b[0mos\u001b[0m\u001b[1;33m.\u001b[0m\u001b[0menviron\u001b[0m\u001b[1;33m:\u001b[0m\u001b[1;33m\u001b[0m\u001b[0m\n\u001b[0;32m    221\u001b[0m             \u001b[1;32mraise\u001b[0m \u001b[0mRuntimeError\u001b[0m\u001b[1;33m(\u001b[0m\u001b[1;34m\"$DISPLAY isn't set, so I won't be able to start ds9 for you\"\u001b[0m\u001b[1;33m)\u001b[0m\u001b[1;33m\u001b[0m\u001b[0m\n",
      "\u001b[1;31mNameError\u001b[0m: ds9 doesn't appear to be on your path"
     ]
    }
   ],
   "source": [
    "import lsst.afw.display.ds9 as display\n",
    "import lsst.afw.cameraGeom.utils as camGeomUtils\n",
    "camGeomUtils = reload(camGeomUtils)\n",
    "\n",
    "# butler = dafPersist.Butler('/nfs/lsst2/photocalData/data/scratch6/rerun/20160428/')\n",
    "butler = dafPersist.Butler('/nfs/lsst2/photocalData/data/scratch6/')\n",
    "\n",
    "# print butler\n",
    "# break\n",
    "camera = butler.get(\"camera\")\n",
    "# visit = 9000001\n",
    "visit = 496428\n",
    "# visit = 496485\n",
    "binning = 8\n",
    "\n",
    "# product = 'calexp'\n",
    "product = 'postISRCCD'\n",
    "# product = 'raw'\n",
    "\n",
    "date = '2015-11-25'\n",
    "filter = 'r'\n",
    "\n",
    "imageSource = camGeomUtils.ButlerImage(butler, product, visit=visit, verbose=True, date=date, filter=filter)\n",
    "\n",
    "try:\n",
    "    mos\n",
    "except NameError:\n",
    "    mos = dict()\n",
    "\n",
    "mos[str([visit,binning,product])] = camGeomUtils.showCamera(camera, imageSource=imageSource, title=str(visit), binSize=binning)#,\n",
    "#                                      frame=frame)#, ccdKey=\"ccdnum\")\n",
    "\n",
    "ds9.mtv(mos[str([visit,binning,product])], frame=GetNextFrame(), title=str(visit)+product+',binned_'+str(binning))"
   ]
  },
  {
   "cell_type": "code",
   "execution_count": null,
   "metadata": {
    "collapsed": true
   },
   "outputs": [],
   "source": [
    "ds9_one_ccd(6,496492,'calexp', 'N3', showMaskPlanes=True)"
   ]
  },
  {
   "cell_type": "code",
   "execution_count": null,
   "metadata": {
    "collapsed": false
   },
   "outputs": [],
   "source": [
    "getCCDnameFromNum(61)"
   ]
  },
  {
   "cell_type": "code",
   "execution_count": null,
   "metadata": {
    "collapsed": false
   },
   "outputs": [],
   "source": [
    "getCCDNumFromName('S12')"
   ]
  },
  {
   "cell_type": "code",
   "execution_count": null,
   "metadata": {
    "collapsed": false
   },
   "outputs": [],
   "source": [
    "# dataId = dict(visit=496495)\n",
    "dataId = dict(visit=496547)\n",
    "\n",
    "calexps = {}\n",
    "for ccdnum in range(1, 63):\n",
    "    calexps[ccdnum] = butler.get(\"calexp\", dataId, ccdnum=ccdnum, immediate=True)\n",
    "    print 'Fetched ' + calexps[ccdnum].getDetector().getName(), calexps[ccdnum].getDetector().getId()"
   ]
  },
  {
   "cell_type": "code",
   "execution_count": null,
   "metadata": {
    "collapsed": false
   },
   "outputs": [],
   "source": [
    "dataId = dict(visit=496547, ccdnum=28)\n",
    "\n",
    "src = butler.get(\"icSrc\", dataId, immediate=True)\n",
    "calexp = butler.get(\"calexp\", dataId)\n",
    "if True:\n",
    "    ds9.mtv(calexp.getMaskedImage().getImage(), frame=62)\n",
    "else:\n",
    "    ds9.erase()\n",
    "with ds9.Buffering():\n",
    "    i = 1\n",
    "    for s in src:\n",
    "        if s.getFootprint().getNpix() > 1:\n",
    "            print i\n",
    "            i += 1\n",
    "            ellip = s.getShape()\n",
    "            ellip = afwEllipse.Axes(ellip)\n",
    "\n",
    "            if ellip.getDeterminantRadius() > 10:\n",
    "                ds9.dot('o', *s.getCentroid(), size=10, frame=62)\n",
    "                print s.getCentroid()"
   ]
  },
  {
   "cell_type": "code",
   "execution_count": null,
   "metadata": {
    "collapsed": false
   },
   "outputs": [],
   "source": [
    "a, b = s.getCentroid()\n",
    "# ds9.dot()\n",
    "# print type(s.getCentroid())\n",
    "\n",
    "print a"
   ]
  },
  {
   "cell_type": "code",
   "execution_count": null,
   "metadata": {
    "collapsed": false,
    "scrolled": false
   },
   "outputs": [],
   "source": [
    "for s in src:\n",
    "#     print s.getId(), s.getFootprint().getNpix()\n",
    "    if s.getId()!=213265432851775495: continue\n",
    "    print s.getId(), s.getCentroid()\n",
    "    print s.getApFlux(), s.getCalibFlux(), s.getInstFlux(), s.getModelFlux(), s.getPsfFlux()\n",
    "    print 'getApFlux     = %.1f'% s.getApFlux()\n",
    "    print 'getCalibFlux  = %.1f'% s.getCalibFlux()\n",
    "    print 'getInstFlux   = %.1f'% s.getInstFlux()\n",
    "    print 'getModelFlux  = %.1f'% s.getModelFlux()\n",
    "    print 'getPsfFlux    = %.1f'% s.getPsfFlux()\n",
    "    \n",
    "    flux = fn.SumSourcePixels(s, calexps[28].getMaskedImage().getImage())\n",
    "    print 'footprint sum = %.1f'% flux\n",
    "\n",
    "# b.getArea()"
   ]
  },
  {
   "cell_type": "code",
   "execution_count": null,
   "metadata": {
    "collapsed": false
   },
   "outputs": [],
   "source": [
    "print src.schema\n",
    "# print s.getId() & 0xffff\n",
    "# if (src.getId() & 0xffff) == -122:"
   ]
  },
  {
   "cell_type": "code",
   "execution_count": null,
   "metadata": {
    "collapsed": false
   },
   "outputs": [],
   "source": [
    "ccdName = 'N11'\n",
    "ccdnum = [_.getId() for _ in camera if _.getName() == ccdName][0]\n",
    "\n",
    "dataId = dict(visit=496559, ccdnum=ccdnum)\n",
    "calexp = butler.get(\"raw\", dataId)\n",
    "srcs = butler.get(\"src\", dataId)\n",
    "\n",
    "frame = 0\n",
    "if True:\n",
    "    ds9.mtv(calexp, frame=frame, \n",
    "            title='%d %s' % (dataId[\"visit\"], calexp.getDetector().getName()))\n",
    "else:\n",
    "    ds9.erase(frame=frame)\n",
    "    \n",
    "if False:\n",
    "    with ds9.Buffering():\n",
    "        for s in srcs:\n",
    "            if s.getModelFlux() > 1e6:\n",
    "                ellip = s.getShape()\n",
    "                ellip = afwEllipse.Axes(ellip)\n",
    "\n",
    "                if ellip.getA() > 10 and ellip.getB() > 5:\n",
    "                    ds9.dot(ellip, *s.getCentroid(), frame=frame, size=20)\n",
    "                    #ds9.dot('%g' % s.getModelFlux(), *s.getCentroid(), frame=frame)\n",
    "                    ds9.dot('%.1f %.1f' % (ellip.getA(), ellip.getB()), *s.getCentroid(), frame=frame)"
   ]
  },
  {
   "cell_type": "code",
   "execution_count": null,
   "metadata": {
    "collapsed": false
   },
   "outputs": [],
   "source": [
    "nid = dict([(_.getName(), _.getId()) for _ in camera])\n",
    "print nid['S16']"
   ]
  },
  {
   "cell_type": "code",
   "execution_count": null,
   "metadata": {
    "collapsed": false
   },
   "outputs": [],
   "source": [
    "# import lsst.afw.image as afwImage\n",
    "# import lsst.afw.display as afwDisplay\n",
    "# import numpy as np\n",
    "\n",
    "# data = np.zeros((10,10), dtype=np.float32)\n",
    "# img = afwImage.ImageF(data)\n",
    "# afwDisplay.ds9.mtv(img,frame=0)"
   ]
  },
  {
   "cell_type": "code",
   "execution_count": null,
   "metadata": {
    "collapsed": false
   },
   "outputs": [],
   "source": [
    "# ds9.mtv(mos['496473'], frame=0, title='473,postISR')\n",
    "# ds9.mtv(mos['496473-full'], frame=0, title='473,postISR')\n",
    "# ds9.mtv(mos['496473'], frame=100, title='473,postISR,binned')\n",
    "ds9.mtv(mos['496547-bias'], frame=3, title='496547-bias,calexp,binned')"
   ]
  },
  {
   "cell_type": "code",
   "execution_count": null,
   "metadata": {
    "collapsed": false
   },
   "outputs": [],
   "source": [
    "ims = {}\n",
    "# product = 'postISRCCD'\n",
    "product = 'calexp'\n",
    "\n",
    "exp_cdd = '496453,20'\n",
    "ims[exp_cdd]= butler.get(product, visit=496453, ccdnum=4)\n",
    "ds9.mtv(ims[exp_cdd], frame=1, title = exp_cdd + product)"
   ]
  },
  {
   "cell_type": "code",
   "execution_count": null,
   "metadata": {
    "collapsed": false,
    "scrolled": true
   },
   "outputs": [],
   "source": [
    "# product = 'postISRCCD'\n",
    "ccd_ims = {}\n",
    "product = 'calexp'\n",
    "\n",
    "for i in range(1,10):\n",
    "    exp_cdd = '496473,%s'%i\n",
    "    ccd_ims[exp_cdd]= butler.get(product, visit=496473, ccdnum=i)\n",
    "    ds9.mtv(ccd_ims[exp_cdd], frame=i, title = exp_cdd + product)"
   ]
  },
  {
   "cell_type": "code",
   "execution_count": null,
   "metadata": {
    "collapsed": false
   },
   "outputs": [],
   "source": [
    "import lsst.afw.display.ds9 as display\n",
    "import lsst.afw.cameraGeom.utils as camGeomUtils\n",
    "camGeomUtils = reload(camGeomUtils)\n",
    "\n",
    "camera = butler.get(\"camera\")\n",
    "frame, visit = 1, 496473\n",
    "# frame, visit = 1, 496372\n",
    "\n",
    "# product = 'calexp'\n",
    "product = 'postISRCCD'\n",
    "# product = 'raw'\n",
    "\n",
    "date = '2015-11-26'\n",
    "filter = 'r'\n",
    "\n",
    "# imageSource = camGeomUtils.ButlerImage(butler, product, visit=visit, verbose=True)\n",
    "# imageSource = camGeomUtils.ButlerImage(butler, product, visit=visit, verbose=True, date=date, filter=filter)\n",
    "\n",
    "im = butler.get(product, visit=496473, ccdnum=20)\n",
    "\n",
    "ds9.mtv(im, frame=1)\n",
    "# imageSource.\n",
    "\n",
    "# try:\n",
    "#     mos\n",
    "# except NameError:\n",
    "#     mos = dict()\n",
    "\n",
    "# mos['496577-7'] = camGeomUtils.showCamera(camera, imageSource=imageSource, title=str(visit), binSize=8)#,\n",
    "# #                                      frame=frame)#, ccdKey=\"ccdnum\")"
   ]
  },
  {
   "cell_type": "code",
   "execution_count": null,
   "metadata": {
    "collapsed": false,
    "scrolled": false
   },
   "outputs": [],
   "source": [
    "plt.imshow(mos['496473-1'].getArray(),cmap = 'gray', figsize=(10,10))"
   ]
  },
  {
   "cell_type": "code",
   "execution_count": null,
   "metadata": {
    "collapsed": false
   },
   "outputs": [],
   "source": [
    "ds9.pan(420,1779, frame=5)"
   ]
  },
  {
   "cell_type": "code",
   "execution_count": null,
   "metadata": {
    "collapsed": false
   },
   "outputs": [],
   "source": [
    "data = np.zeros((10,10), dtype = np.float32)\n",
    "img = afwImage.ImageF(data)\n",
    "ds9.mtv(img,frame=6)"
   ]
  },
  {
   "cell_type": "code",
   "execution_count": null,
   "metadata": {
    "collapsed": false
   },
   "outputs": [],
   "source": [
    "getCCDnameFromNum(32)\n",
    "getCCDNumFromName('S1')"
   ]
  },
  {
   "cell_type": "code",
   "execution_count": null,
   "metadata": {
    "collapsed": false
   },
   "outputs": [],
   "source": [
    "ds9.mtv(mos['496453'], frame=100, title='496453,bin8,calexp')"
   ]
  },
  {
   "cell_type": "code",
   "execution_count": null,
   "metadata": {
    "collapsed": true
   },
   "outputs": [],
   "source": [
    "test = {}\n",
    "test ['1'] = 1"
   ]
  },
  {
   "cell_type": "code",
   "execution_count": null,
   "metadata": {
    "collapsed": false
   },
   "outputs": [],
   "source": [
    "print test\n"
   ]
  },
  {
   "cell_type": "code",
   "execution_count": null,
   "metadata": {
    "collapsed": false
   },
   "outputs": [],
   "source": [
    "butler4 = dafPersist.Butler('/nfs/lsst2/photocalData/data/decam/rerun/4')\n",
    "butler5 = dafPersist.Butler('/nfs/lsst2/photocalData/data/decam/rerun/5')\n",
    "\n",
    "date = '2015-11-25'\n",
    "filter = 'r'\n",
    "\n",
    "frame, visit = 1, 496473\n",
    "ccdnum = 20\n",
    "product = 'calexp'\n",
    "# product = 'postISRCCD'\n",
    "# product = 'raw'\n",
    "\n",
    "im4 = butler4.get(product, visit=496473, ccdnum=ccdnum)\n",
    "im5 = butler5.get(product, visit=496473, ccdnum=ccdnum)\n",
    "\n",
    "ds9.mtv(im4, frame=0, title='4,%s,%s,%s'%(visit,product,ccdnum))\n",
    "ds9.mtv(im5, frame=1, title='5,%s,%s,%s'%(visit,product,ccdnum))"
   ]
  },
  {
   "cell_type": "code",
   "execution_count": null,
   "metadata": {
    "collapsed": false
   },
   "outputs": [],
   "source": [
    "\n",
    "\n",
    "SideBySide([im4,im5], colormap='CMRmap', half_stretch=1, smoothing=2, saveas='/nfs/lsst2/photocalData/data/figs/bias_vs_no_bias_496473_ccd_20.png')\n",
    "# SideBySide(im4,im5, saveas='save.png')"
   ]
  },
  {
   "cell_type": "code",
   "execution_count": null,
   "metadata": {
    "collapsed": true
   },
   "outputs": [],
   "source": [
    "data = im4.getMaskedImage().getImage().getArray()"
   ]
  },
  {
   "cell_type": "code",
   "execution_count": null,
   "metadata": {
    "collapsed": false
   },
   "outputs": [],
   "source": [
    "np.mean(data)"
   ]
  },
  {
   "cell_type": "code",
   "execution_count": null,
   "metadata": {
    "collapsed": false
   },
   "outputs": [],
   "source": [
    "np.median(data)"
   ]
  },
  {
   "cell_type": "code",
   "execution_count": null,
   "metadata": {
    "collapsed": false,
    "scrolled": true
   },
   "outputs": [],
   "source": [
    "mean, stddev = getClippedMeanandStddev(data)\n",
    "print mean\n",
    "print stddev"
   ]
  },
  {
   "cell_type": "code",
   "execution_count": null,
   "metadata": {
    "collapsed": false
   },
   "outputs": [],
   "source": [
    "butler4 = dafPersist.Butler('/nfs/lsst2/photocalData/data/decam/rerun/4')\n",
    "\n",
    "date = '2015-11-25'\n",
    "filter = 'r'\n",
    "\n",
    "visit = 496547\n",
    "chipName = 'N30'\n",
    "ccdnum = getCCDNumFromName(chipName)\n",
    "product = 'calexp'\n",
    "\n",
    "im4 = butler4.get(product, visit=496473, ccdnum=ccdnum)\n",
    "\n",
    "ds9.mtv(im4, frame=2, title='%s,%s,%s'%(visit,product,chipName))\n"
   ]
  },
  {
   "cell_type": "code",
   "execution_count": null,
   "metadata": {
    "collapsed": true
   },
   "outputs": [],
   "source": [
    "ds9.mtv(mos['496547-bias'], frame = 10)"
   ]
  },
  {
   "cell_type": "code",
   "execution_count": null,
   "metadata": {
    "collapsed": false
   },
   "outputs": [],
   "source": [
    "print 'hello'"
   ]
  },
  {
   "cell_type": "code",
   "execution_count": null,
   "metadata": {
    "collapsed": false
   },
   "outputs": [],
   "source": [
    "# product = 'postISRCCD'\n",
    "ccd_ims = {}\n",
    "visit = 496547\n",
    "product = 'calexp'\n",
    "\n",
    "for i in range(1,63):\n",
    "    visit_cdd = '%s,%s'%(visit,i)\n",
    "    ccd_ims[visit_cdd]= butler.get(product, visit=visit, ccdnum=i)\n",
    "    ds9.mtv(ccd_ims[visit_cdd], frame=i, title = visit_cdd + getCCDnameFromNum(i) + product)"
   ]
  },
  {
   "cell_type": "code",
   "execution_count": null,
   "metadata": {
    "collapsed": false
   },
   "outputs": [],
   "source": [
    "# focal_plane_to_image(mos['496547-camera'].getArray(), '/nfs/lsst2/photocalData/data/figs/fp_test.png')\n",
    "# print 'png'\n",
    "focal_plane_to_image(mos['496547-camera-full'].getArray(), '/nfs/lsst2/photocalData/data/figs/fp_test.png')\n",
    "print 'jpg'\n",
    "# focal_plane_to_image(mos['496547-camera-full'].getArray(), '/nfs/lsst2/photocalData/data/figs/fp_test_full.pdf')\n",
    "# print 'pdf'"
   ]
  },
  {
   "cell_type": "code",
   "execution_count": null,
   "metadata": {
    "collapsed": true
   },
   "outputs": [],
   "source": [
    "ds9.mtv(mos['496547-camera-binned'], frame = 100, title='test_image')"
   ]
  },
  {
   "cell_type": "code",
   "execution_count": null,
   "metadata": {
    "collapsed": false
   },
   "outputs": [],
   "source": [
    "dataId = dict(visit=496547)\n",
    "ccdnum = getCCDNumFromName('S4')\n",
    "calexp = butler.get(\"calexp\", dataId, ccdnum=ccdnum, immediate=True)\n",
    "print calexp.getDetector().getName(), calexp.getDetector().getId()"
   ]
  },
  {
   "cell_type": "code",
   "execution_count": null,
   "metadata": {
    "collapsed": false,
    "scrolled": true
   },
   "outputs": [],
   "source": [
    "from mpl_toolkits.mplot3d import axes3d\n",
    "import matplotlib.pyplot as plt\n",
    "from matplotlib import cm\n",
    "%matplotlib inline\n",
    "\n",
    "fig = plt.figure()\n",
    "ax = fig.gca(projection='3d')\n",
    "\n",
    "data = calexps[28].getMaskedImage().getImage().getArray()\n",
    "# X, Y, Z = axes3d.get_test_data(0.05)\n",
    "\n",
    "fn.SideBySide([calexps[28]])\n",
    "\n",
    "# ax.plot_surface(data, rstride=8, cstride=8, alpha=0.3)\n",
    "# cset = ax.contour(X, Y, Z, zdir='z', offset=-100, cmap=cm.coolwarm)\n",
    "# cset = ax.contour(X, Y, Z, zdir='x', offset=-40, cmap=cm.coolwarm)\n",
    "# cset = ax.contour(X, Y, Z, zdir='y', offset=40, cmap=cm.coolwarm)\n",
    "\n",
    "# ax.set_xlabel('X')\n",
    "# ax.set_xlim(-40, 40)\n",
    "# ax.set_ylabel('Y')\n",
    "# ax.set_ylim(-40, 40)\n",
    "# ax.set_zlabel('Z')\n",
    "# ax.set_zlim(-100, 100)\n",
    "\n",
    "# plt.show()\n",
    "\n",
    "\n",
    "\n",
    "# ds9.mtv(calexp, frame=100)"
   ]
  },
  {
   "cell_type": "code",
   "execution_count": null,
   "metadata": {
    "collapsed": false
   },
   "outputs": [],
   "source": [
    "print data.shape"
   ]
  },
  {
   "cell_type": "code",
   "execution_count": null,
   "metadata": {
    "collapsed": false
   },
   "outputs": [],
   "source": [
    "sub_data=data[2050:2450,1200:1600]\n",
    "# sub_data=data[2150:2250,1300:1400]\n",
    "# from scipy.ndimage.sobel import sobel\n",
    "\n",
    "import scipy.ndimage as im_process\n",
    "from scipy.ndimage.filters import gaussian_filter\n",
    "\n",
    "\n",
    "deriv = im_process.laplace(gaussian_filter(sub_data,3), mode='constant')\n",
    "\n",
    "spot_cent = [1406,2350]\n",
    "spot_rad = 19\n",
    "spot_psf = gaussian_filter(data[spot_cent[1]-spot_rad:spot_cent[1]+spot_rad,spot_cent[0]-spot_rad:spot_cent[0]+spot_rad],1)\n",
    "spot_psf = spot_psf/np.max(spot_psf)\n",
    "\n"
   ]
  },
  {
   "cell_type": "code",
   "execution_count": null,
   "metadata": {
    "collapsed": false
   },
   "outputs": [],
   "source": [
    "spot_cent = [205,301]\n",
    "spot_rad = 19\n",
    "spot_psf = gaussian_filter(deriv[spot_cent[1]-spot_rad:spot_cent[1]+spot_rad,spot_cent[0]-spot_rad:spot_cent[0]+spot_rad],0)\n",
    "# spot_psf = spot_psf/np.max(spot_psf)\n",
    "\n",
    "\n",
    "fn.ShowSpot(sub_data, smoothing=0, half_stretch='auto')\n",
    "\n",
    "thr_low = 0\n",
    "deriv = im_process.laplace(gaussian_filter(sub_data,2.8), mode='constant')\n",
    "deriv[deriv<thr_low]=thr_low\n",
    "fn.ShowSpot(deriv, smoothing=0, half_stretch='auto')\n",
    "\n",
    "fn.SideBySide([sub_data,deriv],colormap='CMRmap', half_stretch=2, fix_scales=False)\n",
    "\n"
   ]
  },
  {
   "cell_type": "code",
   "execution_count": null,
   "metadata": {
    "collapsed": false,
    "scrolled": false
   },
   "outputs": [],
   "source": [
    "import skimage.morphology as morph\n",
    "\n",
    "for size in range(10):\n",
    "    disk = morph.disk(size)\n",
    "    white_hat = im_process.black_tophat(gaussian_filter(sub_data,2), mode='constant', structure=disk)\n",
    "    fn.ShowSpot(white_hat, smoothing=0, half_stretch=-1)\n",
    "\n",
    "# white_hat = im_process.white_tophat(gaussian_filter(sub_data,2), mode='constant', structure=spot_psf)\n",
    "# fn.ShowSpot(white_hat, smoothing=0, half_stretch=3)\n",
    "# white_hat = im_process.white_tophat(gaussian_filter(sub_data,2), mode='constant', structure=disk)\n",
    "# fn.ShowSpot(white_hat, smoothing=0, half_stretch=3)\n",
    "\n",
    "# fn.ShowSpot(spot_psf, smoothing=0, half_stretch=-1)\n",
    "# fn.ShowSpot(sub_data, smoothing=0, half_stretch='auto')\n",
    "# fn.ShowSpot(deriv, smoothing=0, half_stretch=3)\n",
    "# fn.ShowSpot(white_hat, smoothing=0, half_stretch=3)"
   ]
  },
  {
   "cell_type": "code",
   "execution_count": null,
   "metadata": {
    "collapsed": false,
    "scrolled": true
   },
   "outputs": [],
   "source": [
    "    \n",
    "SurfPlot(sub_data[100:350,100:350])"
   ]
  },
  {
   "cell_type": "code",
   "execution_count": null,
   "metadata": {
    "collapsed": false
   },
   "outputs": [],
   "source": [
    "def BarPlot(data):\n",
    "    from mpl_toolkits.mplot3d import Axes3D\n",
    "    import matplotlib.pyplot as plt\n",
    "    import numpy as np\n",
    "\n",
    "    fig = plt.figure(figsize=(10,10))\n",
    "    ax = fig.add_subplot(111, projection='3d')\n",
    "#     x, y = np.random.rand(2, 100) * 4\n",
    "#     hist, xedges, yedges = np.histogram2d(x, y, bins=4)\n",
    "\n",
    "    ncols, nrows = data.shape\n",
    "\n",
    "    elements = (ncols * nrows)\n",
    "    xpos, ypos = np.meshgrid(np.linspace(0, ncols, ncols),np.linspace(0, nrows, nrows))\n",
    "\n",
    "    xpos = xpos.flatten()\n",
    "    ypos = ypos.flatten()\n",
    "    zpos = np.zeros(elements)\n",
    "    dx = 1 * np.ones_like(zpos)\n",
    "    dy = dx.copy()\n",
    "    dz = data.flatten()\n",
    "\n",
    "    ax.bar3d(xpos, ypos, zpos, dx, dy, dz, color='b', zsort='average')\n",
    "    plt.show()\n",
    "    \n",
    "    \n",
    "    \n",
    "# temp_data = np.ndarray.zeros((10,10))\n",
    "# temp_data = np.random.rand(10, 10) * 4\n",
    "BarPlot(sub_data)"
   ]
  },
  {
   "cell_type": "code",
   "execution_count": null,
   "metadata": {
    "collapsed": false
   },
   "outputs": [],
   "source": [
    "print np.percentile(sub_data, 25)\n",
    "print np.max(sub_data)"
   ]
  },
  {
   "cell_type": "code",
   "execution_count": null,
   "metadata": {
    "collapsed": false
   },
   "outputs": [],
   "source": [
    "import s"
   ]
  },
  {
   "cell_type": "code",
   "execution_count": null,
   "metadata": {
    "collapsed": false
   },
   "outputs": [],
   "source": [
    "# import lsst.ip.isr.isr.createPSF as createPSF\n",
    "\n",
    "# FWHM = 2 ## stands for full-width half-max of the Gaussian which models the PSF\n",
    "# psf = measAlg.createPSF(\"DoubleGaussian\", 15, 15, FWHM/(2*math.sqrt(2*math.log(2))))\n",
    "\n",
    "# psf = createPSF(2)\n",
    "\n",
    "import lsst.meas.algorithms.installGaussianPsf as installPsf\n",
    "\n",
    "print installPsf."
   ]
  },
  {
   "cell_type": "code",
   "execution_count": 10,
   "metadata": {
    "collapsed": false
   },
   "outputs": [
    {
     "name": "stdout",
     "output_type": "stream",
     "text": [
      "SIMPLE True\n",
      "BITPIX 8\n",
      "NAXIS 0\n",
      "EXTEND True\n",
      "NEXTEND 70\n",
      "PROCTYPE RAW\n",
      "PRODTYPE image\n",
      "DETSIZE [1:29400,1:29050]\n",
      "PIXSCAL1 0.27\n",
      "PIXSCAL2 0.27\n",
      "FILENAME DECam_00496469.fits\n",
      "OBS-LONG 70.81489\n",
      "TELESCOP CTIO 4.0-m telescope\n",
      "OBSERVAT CTIO\n",
      "OBS-LAT -30.16606\n",
      "OBS-ELEV 2215.0\n",
      "INSTRUME DECam\n",
      "EXPREQ 0.0\n",
      "EXPTIME 0.0\n",
      "DARKTIME 0.00282\n",
      "OBSID ct4m20151125t182154\n",
      "DATE-OBS 2015-11-25T18:21:54.864824\n",
      "TIME-OBS 18:21:54.864824\n",
      "MJD-OBS 57351.7652183\n",
      "OPENSHUT 2015-11-25T18:21:54.860180\n",
      "RADESYS FK5\n",
      "TIMESYS UTC\n",
      "EXPNUM 496469\n",
      "OBJECT \n",
      "OBSTYPE zero\n"
     ]
    }
   ],
   "source": [
    "fn.printHeaderData('/nfs/lsst2/photocalData/data/calib_raw_NOAO/bias/c4d_151125_182239_zri.fits.fz', max_lines=30)"
   ]
  },
  {
   "cell_type": "code",
   "execution_count": 11,
   "metadata": {
    "collapsed": false
   },
   "outputs": [
    {
     "name": "stdout",
     "output_type": "stream",
     "text": [
      "Found 20 files in /nfs/lsst2/photocalData/data/calib_raw_NOAO/bias/\n",
      "Opening...\n",
      "496469^496470^496473^496474^496487^496488^496490^496491^496493^496494^496496^496497^496516^496517^496623^496624^496721^496722^496724^496725\n"
     ]
    },
    {
     "data": {
      "text/plain": [
       "([496469,\n",
       "  496470,\n",
       "  496473,\n",
       "  496474,\n",
       "  496487,\n",
       "  496488,\n",
       "  496490,\n",
       "  496491,\n",
       "  496493,\n",
       "  496494,\n",
       "  496496,\n",
       "  496497,\n",
       "  496516,\n",
       "  496517,\n",
       "  496623,\n",
       "  496624,\n",
       "  496721,\n",
       "  496722,\n",
       "  496724,\n",
       "  496725],\n",
       " '496469^496470^496473^496474^496487^496488^496490^496491^496493^496494^496496^496497^496516^496517^496623^496624^496721^496722^496724^496725')"
      ]
     },
     "execution_count": 11,
     "metadata": {},
     "output_type": "execute_result"
    }
   ],
   "source": [
    "# for filename in os.listdir('/nfs/lsst2/photocalData/data/calib_raw_NOAO/bias/'):\n",
    "fn.GetExpNumsFromDir('/nfs/lsst2/photocalData/data/calib_raw_NOAO/bias/')"
   ]
  },
  {
   "cell_type": "code",
   "execution_count": null,
   "metadata": {
    "collapsed": true
   },
   "outputs": [],
   "source": []
  }
 ],
 "metadata": {
  "kernelspec": {
   "display_name": "Python 2",
   "language": "python",
   "name": "python2"
  },
  "language_info": {
   "codemirror_mode": {
    "name": "ipython",
    "version": 2
   },
   "file_extension": ".py",
   "mimetype": "text/x-python",
   "name": "python",
   "nbconvert_exporter": "python",
   "pygments_lexer": "ipython2",
   "version": "2.7.11"
  }
 },
 "nbformat": 4,
 "nbformat_minor": 0
}
