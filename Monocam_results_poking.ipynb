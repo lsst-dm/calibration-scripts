{
 "cells": [
  {
   "cell_type": "code",
   "execution_count": 1,
   "metadata": {
    "collapsed": false
   },
   "outputs": [
    {
     "data": {
      "text/html": [
       "<style>.container { width:90% !important; }</style>"
      ],
      "text/plain": [
       "<IPython.core.display.HTML object>"
      ]
     },
     "execution_count": 1,
     "metadata": {},
     "output_type": "execute_result"
    }
   ],
   "source": [
    "from IPython.core.display import HTML\n",
    "HTML(\"<style>.container { width:90% !important; }</style>\")"
   ]
  },
  {
   "cell_type": "code",
   "execution_count": 2,
   "metadata": {
    "collapsed": false,
    "scrolled": true
   },
   "outputs": [],
   "source": [
    "import os\n",
    "import numpy as np\n",
    "  \n",
    "import lsst.afw.display.ds9 as ds9\n",
    "import lsst.afw.geom as afwGeom\n",
    "import lsst.afw.detection as afwDetect\n",
    "import lsst.afw.geom.ellipses as afwEllipse\n",
    "import lsst.afw.cameraGeom as cameraGeom\n",
    "import matplotlib.pyplot as plt\n",
    "%matplotlib inline\n",
    "import lsst.afw.display.ds9 as display\n",
    "import lsst.afw.cameraGeom.utils as camGeomUtils\n",
    "\n",
    "from functions import *"
   ]
  },
  {
   "cell_type": "code",
   "execution_count": 3,
   "metadata": {
    "collapsed": true
   },
   "outputs": [],
   "source": [
    "CURRENT_FRAME = 0\n",
    "def GetNextFrame():\n",
    "    global CURRENT_FRAME\n",
    "    CURRENT_FRAME += 1\n",
    "    return CURRENT_FRAME-1"
   ]
  },
  {
   "cell_type": "code",
   "execution_count": 4,
   "metadata": {
    "collapsed": false
   },
   "outputs": [],
   "source": [
    "info, dummy = ParseLogfile('/home/mfisherlevine/first_processing_j1.log')"
   ]
  },
  {
   "cell_type": "code",
   "execution_count": 5,
   "metadata": {
    "collapsed": false,
    "scrolled": true
   },
   "outputs": [],
   "source": [
    "def PrintSuccesses(info):\n",
    "    for id in info.keys():\n",
    "        if info[id]['PASSED'] == True:\n",
    "            print id\n",
    "#         print info[id]['object'] + '\\n' + info[id]['OUTCOME'] +'\\n' +  info[id]['LINE_ABOVE_FATAL'] + '\\n'\n",
    "        \n",
    "def PrintFailures(info):\n",
    "    for id in info.keys():\n",
    "        if info[id]['PASSED'] == False:\n",
    "            print\n",
    "#         print info[id]['object'] + '\\n' + info[id]['OUTCOME'] +'\\n' +  info[id]['LINE_ABOVE_FATAL'] + '\\n'\n",
    "\n",
    "def ds9_one_visit(rerun, visit, product, ccdname, binning=8, date='2015-11-25',filter='r', showMaskPlanes=False):\n",
    "    import lsst.daf.persistence as dafPersist\n",
    "    import lsst.afw.display.ds9 as ds9\n",
    "#     import lsst.afw.cameraGeom.utils as camGeomUtils\n",
    "\n",
    "    butler = dafPersist.Butler('/nfs/lsst2/photocalData/data/monocam/sanitised7/1m3/processing/rerun/first_processing_j1/')\n",
    "#     camera = butler.get(\"camera\")\n",
    "\n",
    "    exp = butler.get(product, visit=visit, immediate=True)#date=date, filter=filter, ccdnum=getCCDNumFromName(ccdname),\n",
    "    \n",
    "    if showMaskPlanes:\n",
    "        image = exp\n",
    "    else:\n",
    "        image = exp.getMaskedImage().getImage()\n",
    "    \n",
    "    title = 'rerun %s, visit %s, %s'%(rerun, visit, product)\n",
    "    ds9.mtv(image, frame=GetNextFrame(), title=title)\n"
   ]
  },
  {
   "cell_type": "code",
   "execution_count": null,
   "metadata": {
    "collapsed": true
   },
   "outputs": [],
   "source": [
    "PrintSuccesses(info)"
   ]
  },
  {
   "cell_type": "code",
   "execution_count": 6,
   "metadata": {
    "collapsed": false
   },
   "outputs": [],
   "source": [
    "butler = dafPersist.Butler('/nfs/lsst2/photocalData/data/monocam/sanitised7/1m3/processing/rerun/first_processing_j1/')\n",
    "\n",
    "# camera = butler.get(\"camera\")\n",
    "\n",
    "date = '2016-05-04'\n",
    "visit = 1100\n",
    "product = 'calexp'\n",
    "# product = 'postISRCCD'\n",
    "# product = 'raw'\n",
    "# filter = 'r'\n",
    "\n",
    "\n",
    "im = butler.get(product, visit=visit)#, ccdnum=ccdnum)\n",
    "\n",
    "# ds9.mtv(im.getMaskedImage().getImage(), frame=GetNextFrame(), title='%s,%s'%(visit,product))\n",
    "ds9.mtv(im, frame=GetNextFrame(), title='%s,%s'%(visit,product))\n"
   ]
  },
  {
   "cell_type": "code",
   "execution_count": null,
   "metadata": {
    "collapsed": false
   },
   "outputs": [],
   "source": [
    "import sys\n",
    "try:\n",
    "    import lsstDebug\n",
    "\n",
    "    print \"Importing debug settings...\"\n",
    "    def DebugInfo(name):\n",
    "        di = lsstDebug.getInfo(name)\n",
    "        if name in (\n",
    "            \"lsst.meas.astrom.astrometry\",\n",
    "            \"lsst.meas.astrom.matchOptimisticB\",\n",
    "            \"lsst.meas.astrom.anetAstrometry\",\n",
    "            \"lsst.meas.astrom.anetBasicAstrometry\",\n",
    "            ):\n",
    "            di.display = 3\n",
    "            di.showLinear = True\n",
    "            di.verbose = True\n",
    "            di.frame = 1\n",
    "            di.frame1 = 1\n",
    "            di.frame2 = 2\n",
    "            di.frame3 = 3\n",
    "            di.pause = True\n",
    "            di.scatterPlot = 2\n",
    "            di.displaySources = True\n",
    "        return di\n",
    "\n",
    "    lsstDebug.Info = DebugInfo\n",
    "\n",
    "except ImportError:\n",
    "    print >> sys.stderr, \"Unable to import lsstDebug; not setting display intelligently\""
   ]
  },
  {
   "cell_type": "code",
   "execution_count": null,
   "metadata": {
    "collapsed": true
   },
   "outputs": [],
   "source": [
    "dataId = dict(visit=496547, ccdnum=28)\n",
    "\n",
    "src = butler.get(\"icSrc\", dataId, immediate=True)\n",
    "calexp = butler.get(\"calexp\", dataId)\n",
    "if True:\n",
    "    ds9.mtv(calexp.getMaskedImage().getImage(), frame=62)\n",
    "else:\n",
    "    ds9.erase()\n",
    "with ds9.Buffering():\n",
    "    i = 1\n",
    "    for s in src:\n",
    "        if s.getFootprint().getNpix() > 1:\n",
    "            print i\n",
    "            i += 1\n",
    "            ellip = s.getShape()\n",
    "            ellip = afwEllipse.Axes(ellip)\n",
    "\n",
    "            if ellip.getDeterminantRadius() > 10:\n",
    "                ds9.dot('o', *s.getCentroid(), size=10, frame=62)\n",
    "                print s.getCentroid()"
   ]
  }
 ],
 "metadata": {
  "kernelspec": {
   "display_name": "Python 2",
   "language": "python",
   "name": "python2"
  },
  "language_info": {
   "codemirror_mode": {
    "name": "ipython",
    "version": 2
   },
   "file_extension": ".py",
   "mimetype": "text/x-python",
   "name": "python",
   "nbconvert_exporter": "python",
   "pygments_lexer": "ipython2",
   "version": "2.7.11"
  }
 },
 "nbformat": 4,
 "nbformat_minor": 0
}
