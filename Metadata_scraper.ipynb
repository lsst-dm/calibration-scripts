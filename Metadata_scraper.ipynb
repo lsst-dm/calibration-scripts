{
 "cells": [
  {
   "cell_type": "code",
   "execution_count": 1,
   "metadata": {
    "collapsed": true
   },
   "outputs": [],
   "source": [
    "import os\n",
    "import numpy as np\n",
    "import lsst.daf.persistence as dafPersist\n",
    "import lsst.afw.display.ds9 as ds9\n",
    "import lsst.afw.geom as afwGeom\n",
    "import lsst.afw.geom.ellipses as afwEllipse\n",
    "import lsst.afw.cameraGeom as cameraGeom\n",
    "headers = {}\n"
   ]
  },
  {
   "cell_type": "code",
   "execution_count": null,
   "metadata": {
    "collapsed": false,
    "scrolled": true
   },
   "outputs": [],
   "source": [
    "import lsst.afw.image as afwImage\n",
    "# import lsst.display.ds9 as ds9\n",
    "import lsst.afw.display.ds9 as ds9\n",
    "import pyfits\n",
    "\n",
    "data_path = '/nfs/lsst2/photocalData/data/observer2/'\n",
    "# data_path = '/nfs/lsst2/photocalData/data/calib_source/trim_down/'\n",
    "# data_path = '/nfs/lsst2/photocalData/data/calib_source/'\n",
    "\n",
    "\n",
    "nfiles = len(os.listdir(data_path))\n",
    "for i, filename in enumerate(os.listdir(data_path)):\n",
    "    if filename != 'DECam_00496577.fits.fz':\n",
    "        print 'skipped'\n",
    "        continue\n",
    "    print 'Opening...'\n",
    "#     if i > 40: continue\n",
    "#     print hdulist.info()\n",
    "\n",
    "    try:\n",
    "        hdulist = pyfits.open(data_path + filename)\n",
    "        main_header = hdulist[0].header\n",
    "        headers[data_path + filename] = main_header\n",
    "    except:\n",
    "        headers[data_path + filename] = 'Bad header found'\n",
    "    \n",
    "\n",
    "#     if i == 3:\n",
    "#         break\n",
    "    print 'loaded %s of %s'%(i, nfiles)\n",
    "print 'finished loading headers'\n",
    "\n"
   ]
  },
  {
   "cell_type": "code",
   "execution_count": 6,
   "metadata": {
    "collapsed": false
   },
   "outputs": [
    {
     "name": "stdout",
     "output_type": "stream",
     "text": [
      "['SIMPLE', 'BITPIX', 'NAXIS', 'EXTEND', 'NEXTEND', 'PROCTYPE', 'PRODTYPE', 'DETSIZE', 'PIXSCAL1', 'PIXSCAL2', 'FILENAME', 'OBS-LONG', 'TELESCOP', 'OBSERVAT', 'OBS-LAT', 'OBS-ELEV', 'INSTRUME', 'EXPREQ', 'EXPTIME', 'DARKTIME', 'OBSID', 'DATE-OBS', 'TIME-OBS', 'MJD-OBS', 'OPENSHUT', 'RADESYS', 'TIMESYS', 'EXPNUM', 'OBJECT', 'OBSTYPE', 'CAMSHUT', 'PROGRAM', 'OBSERVER', 'PROPOSER', 'DTPI', 'PROPID', 'EXCLUDED', 'AOS', 'BCAM', 'GUIDER', 'SKYSTAT', 'FILTER', 'FILTPOS', 'INSTANCE', 'ERRORS', 'TELEQUIN', 'TELSTAT', 'RA', 'DEC', 'TELRA', 'TELDEC', 'HA', 'ZD', 'AZ', 'DOMEAZ', 'TELFOCUS', 'VSUB', 'GSKYPHOT', 'LSKYPHOT', 'WINDSPD', 'WINDDIR', 'HUMIDITY', 'PRESSURE', 'DIMMSEE', 'OUTTEMP', 'AIRMASS', 'GSKYVAR', 'GSKYHOT', 'LSKYVAR', 'LSKYHOT', 'LSKYPOW', 'MSURTEMP', 'MAIRTEMP', 'UPTRTEMP', 'LWTRTEMP', 'PMOSTEMP', 'UTN-TEMP', 'UTS-TEMP', 'UTW-TEMP', 'UTE-TEMP', 'PMN-TEMP', 'PMS-TEMP', 'PMW-TEMP', 'PME-TEMP', 'DOMELOW', 'DOMEHIGH', 'DOMEFLOR', 'LUTVER', 'MULTIEXP', 'SKYUPDAT', 'SISPIVER', 'CONSTVER', 'HDRVER', 'CHECKVER', 'COMMENT', 'CHECKSUM', 'DATASUM']\n"
     ]
    }
   ],
   "source": [
    "print [_ for _ in headers['/nfs/lsst2/photocalData/data/observer2/DECam_00496577.fits.fz'].keys()]"
   ]
  },
  {
   "cell_type": "code",
   "execution_count": 70,
   "metadata": {
    "collapsed": false
   },
   "outputs": [
    {
     "name": "stdout",
     "output_type": "stream",
     "text": [
      "952\n",
      "15.0 2015-11-17T21:42:30.842607\n",
      "r DECam SDSS c0002 6415.0 1480.0\n",
      "15.0 2015-11-21T20:12:24.916985\n",
      "r DECam SDSS c0002 6415.0 1480.0\n",
      "15.0 2015-11-17T23:02:17.508421\n",
      "r DECam SDSS c0002 6415.0 1480.0\n",
      "15.0 2015-11-22T19:27:18.217376\n",
      "r DECam SDSS c0002 6415.0 1480.0\n",
      "/nfs/lsst2/photocalData/data/stubbs/r_band_15s_2015-11-22_00.fits.fz\n",
      "15.0 2015-11-21T20:11:45.747270\n",
      "r DECam SDSS c0002 6415.0 1480.0\n",
      "15.0 2015-11-21T20:09:09.509940\n",
      "r DECam SDSS c0002 6415.0 1480.0\n",
      "15.0 2015-11-21T20:15:40.320568\n",
      "r DECam SDSS c0002 6415.0 1480.0\n",
      "15.0 2015-11-17T21:41:12.651434\n",
      "r DECam SDSS c0002 6415.0 1480.0\n",
      "15.0 2015-11-17T21:36:38.785199\n",
      "r DECam SDSS c0002 6415.0 1480.0\n",
      "15.0 2015-11-21T20:11:06.744175\n",
      "r DECam SDSS c0002 6415.0 1480.0\n",
      "15.0 2015-11-17T23:06:49.644654\n",
      "r DECam SDSS c0002 6415.0 1480.0\n",
      "15.0 2015-11-17T21:37:56.898126\n",
      "r DECam SDSS c0002 6415.0 1480.0\n",
      "15.0 2015-11-21T20:14:22.191561\n",
      "r DECam SDSS c0002 6415.0 1480.0\n",
      "15.0 2015-11-22T19:24:00.485876\n",
      "r DECam SDSS c0002 6415.0 1480.0\n",
      "/nfs/lsst2/photocalData/data/stubbs/r_band_15s_2015-11-22_01.fits.fz\n",
      "15.0 2015-11-17T23:01:26.700104\n",
      "r DECam SDSS c0002 6415.0 1480.0\n",
      "15.0 2015-11-17T23:11:00.036008\n",
      "r DECam SDSS c0002 6415.0 1480.0\n",
      "15.0 2015-11-22T19:28:36.779777\n",
      "r DECam SDSS c0002 6415.0 1480.0\n",
      "/nfs/lsst2/photocalData/data/stubbs/r_band_15s_2015-11-22_02.fits.fz\n",
      "15.0 2015-11-22T19:23:21.006079\n",
      "r DECam SDSS c0002 6415.0 1480.0\n",
      "/nfs/lsst2/photocalData/data/stubbs/r_band_15s_2015-11-22_03.fits.fz\n",
      "15.0 2015-11-21T20:15:01.279267\n",
      "r DECam SDSS c0002 6415.0 1480.0\n",
      "15.0 2015-11-17T21:41:51.772095\n",
      "r DECam SDSS c0002 6415.0 1480.0\n",
      "15.0 2015-11-17T21:40:33.569437\n",
      "r DECam SDSS c0002 6415.0 1480.0\n",
      "15.0 2015-11-22T19:24:40.191317\n",
      "r DECam SDSS c0002 6415.0 1480.0\n",
      "/nfs/lsst2/photocalData/data/stubbs/r_band_15s_2015-11-22_04.fits.fz\n",
      "15.0 2015-11-17T23:06:10.520963\n",
      "r DECam SDSS c0002 6415.0 1480.0\n",
      "15.0 2015-11-22T19:25:59.087358\n",
      "r DECam SDSS c0002 6415.0 1480.0\n",
      "/nfs/lsst2/photocalData/data/stubbs/r_band_15s_2015-11-22_05.fits.fz\n",
      "15.0 2015-11-17T23:04:22.639736\n",
      "r DECam SDSS c0002 6415.0 1480.0\n",
      "15.0 2015-11-17T23:05:31.336240\n",
      "r DECam SDSS c0002 6415.0 1480.0\n",
      "15.0 2015-11-17T21:39:15.329462\n",
      "r DECam SDSS c0002 6415.0 1480.0\n",
      "15.0 2015-11-17T21:43:09.850558\n",
      "r DECam SDSS c0002 6415.0 1480.0\n",
      "15.0 2015-11-22T19:27:57.681441\n",
      "r DECam SDSS c0002 6415.0 1480.0\n",
      "/nfs/lsst2/photocalData/data/stubbs/r_band_15s_2015-11-22_06.fits.fz\n",
      "15.0 2015-11-17T23:15:18.251641\n",
      "r DECam SDSS c0002 6415.0 1480.0\n",
      "15.0 2015-11-22T19:22:02.151761\n",
      "r DECam SDSS c0002 6415.0 1480.0\n",
      "/nfs/lsst2/photocalData/data/stubbs/r_band_15s_2015-11-22_07.fits.fz\n",
      "15.0 2015-11-21T20:09:48.585238\n",
      "r DECam SDSS c0002 6415.0 1480.0\n",
      "15.0 2015-11-17T23:07:28.799061\n",
      "r DECam SDSS c0002 6415.0 1480.0\n",
      "15.0 2015-11-22T19:26:39.076406\n",
      "r DECam SDSS c0002 6415.0 1480.0\n",
      "/nfs/lsst2/photocalData/data/stubbs/r_band_15s_2015-11-22_08.fits.fz\n",
      "15.0 2015-11-21T20:13:03.963026\n",
      "r DECam SDSS c0002 6415.0 1480.0\n",
      "15.0 2015-11-22T19:25:19.470603\n",
      "r DECam SDSS c0002 6415.0 1480.0\n",
      "/nfs/lsst2/photocalData/data/stubbs/r_band_15s_2015-11-22_09.fits.fz\n",
      "15.0 2015-11-17T23:10:20.976461\n",
      "r DECam SDSS c0002 6415.0 1480.0\n",
      "15.0 2015-11-21T20:13:43.098716\n",
      "r DECam SDSS c0002 6415.0 1480.0\n",
      "15.0 2015-11-22T19:22:41.901936\n",
      "r DECam SDSS c0002 6415.0 1480.0\n",
      "/nfs/lsst2/photocalData/data/stubbs/r_band_15s_2015-11-22_10.fits.fz\n",
      "15.0 2015-11-17T21:38:36.207120\n",
      "r DECam SDSS c0002 6415.0 1480.0\n",
      "15.0 2015-11-17T21:39:54.485866\n",
      "r DECam SDSS c0002 6415.0 1480.0\n",
      "15.0 2015-11-17T23:16:00.312697\n",
      "r DECam SDSS c0002 6415.0 1480.0\n",
      "15.0 2015-11-21T20:10:27.660794\n",
      "r DECam SDSS c0002 6415.0 1480.0\n",
      "15.0 2015-11-17T21:37:17.826129\n",
      "r DECam SDSS c0002 6415.0 1480.0\n",
      "11\n"
     ]
    }
   ],
   "source": [
    "n = 0\n",
    "\n",
    "print len(headers)\n",
    "\n",
    "for key in headers.keys():\n",
    "    if headers[key] == 'Bad header found': continue\n",
    "    if headers[key]['OBSTYPE'] != 'dome flat': continue\n",
    "    \n",
    "#     print headers[key]['FILTER'], headers[key]['EXPTIME']\n",
    "    if headers[key]['FILTER'][0] != 'r': continue\n",
    "    print headers[key]['EXPTIME'], headers[key]['DATE-OBS']\n",
    "    print headers[key]['FILTER']\n",
    "\n",
    "    if headers[key]['DATE-OBS'][0:10] == '2015-11-22':\n",
    "        out_name = '/nfs/lsst2/photocalData/data/stubbs/r_band_15s_2015-11-22_%02d.fits.fz'%n\n",
    "        print out_name\n",
    "        cmd = 'cp %s %s'%(key, out_name)\n",
    "#         os.system(cmd)\n",
    "        n += 1\n",
    "#         print n\n",
    "    \n",
    "print n"
   ]
  },
  {
   "cell_type": "code",
   "execution_count": null,
   "metadata": {
    "collapsed": true
   },
   "outputs": [],
   "source": []
  }
 ],
 "metadata": {
  "kernelspec": {
   "display_name": "Python 2",
   "language": "python",
   "name": "python2"
  },
  "language_info": {
   "codemirror_mode": {
    "name": "ipython",
    "version": 2
   },
   "file_extension": ".py",
   "mimetype": "text/x-python",
   "name": "python",
   "nbconvert_exporter": "python",
   "pygments_lexer": "ipython2",
   "version": "2.7.11"
  }
 },
 "nbformat": 4,
 "nbformat_minor": 0
}
