{
 "cells": [
  {
   "cell_type": "code",
   "execution_count": 1,
   "metadata": {
    "collapsed": false
   },
   "outputs": [
    {
     "data": {
      "text/html": [
       "<style>.container { width:90% !important; }</style>"
      ],
      "text/plain": [
       "<IPython.core.display.HTML object>"
      ]
     },
     "execution_count": 1,
     "metadata": {},
     "output_type": "execute_result"
    }
   ],
   "source": [
    "from IPython.core.display import HTML\n",
    "HTML(\"<style>.container { width:90% !important; }</style>\")"
   ]
  },
  {
   "cell_type": "code",
   "execution_count": 18,
   "metadata": {
    "collapsed": false,
    "scrolled": true
   },
   "outputs": [],
   "source": [
    "import os\n",
    "import numpy as np\n",
    "import lsst.daf.persistence as dafPersist\n",
    "import lsst.afw.display.ds9 as ds9\n",
    "import lsst.afw.geom as afwGeom\n",
    "import lsst.afw.detection as afwDetect\n",
    "import lsst.afw.geom.ellipses as afwEllipse\n",
    "import lsst.afw.cameraGeom as cameraGeom\n",
    "import matplotlib.pyplot as plt\n",
    "%matplotlib inline\n",
    "import lsst.afw.display.ds9 as display\n",
    "import lsst.afw.cameraGeom.utils as camGeomUtils\n",
    "\n",
    "from functions import *"
   ]
  },
  {
   "cell_type": "code",
   "execution_count": 20,
   "metadata": {
    "collapsed": true
   },
   "outputs": [],
   "source": [
    "CURRENT_FRAME = 0\n",
    "def GetNextFrame():\n",
    "    global CURRENT_FRAME\n",
    "    CURRENT_FRAME += 1\n",
    "    return CURRENT_FRAME-1"
   ]
  },
  {
   "cell_type": "code",
   "execution_count": null,
   "metadata": {
    "collapsed": true
   },
   "outputs": [],
   "source": [
    "info = ParseLogfile('/home/mfisherlevine/attempt2.log')"
   ]
  },
  {
   "cell_type": "code",
   "execution_count": 4,
   "metadata": {
    "collapsed": false
   },
   "outputs": [
    {
     "name": "stdout",
     "output_type": "stream",
     "text": [
      "95\n",
      "lsst1532+1\n",
      "FAILURE\n",
      "processCcd.isr: Performing ISR on sensor {'basename': 'lsst1532+13_G_02', 'object': 'lsst1532+1', 'visit': 43, 'filter': 'SDSSG', 'date': '2016-05-04T07:34:12.234', 'ccd': 0, 'expTime': 30.0002}\n",
      "\n",
      "lsst1316+2\n",
      "FAILURE\n",
      "meas.algorithms.psfDeterminer WARNING: You only have 1 eigen images (you asked for 2): reducing number of eigen components\n",
      "\n",
      "lsst1532+1\n",
      "FAILURE\n",
      "processCcd.isr: Performing ISR on sensor {'basename': 'lsst1532+13_13', 'object': 'lsst1532+1', 'visit': 42, 'filter': 'SDSSI', 'date': '2016-05-04T06:25:44.116', 'ccd': 0, 'expTime': 30.0003}\n",
      "\n",
      "lsst1532+1\n",
      "FAILURE\n",
      "processCcd.calibrate.astrometry.solver WARNING: Did not get an astrometric solution from Astrometry.net\n",
      "\n",
      "lsst1532+1\n",
      "FAILURE\n",
      "processCcd.isr: Performing ISR on sensor {'basename': 'lsst1532+13_scienceII_01', 'object': 'lsst1532+1', 'visit': 45, 'filter': 'SDSSG', 'date': '2016-05-04T07:37:53.225', 'ccd': 0, 'expTime': 300.0004}\n",
      "\n",
      "lsst1532+1\n",
      "FAILURE\n",
      "processCcd.calibrate.astrometry.solver WARNING: Did not get an astrometric solution from Astrometry.net\n",
      "\n",
      "hr3974\n",
      "FAILURE\n",
      "meas.algorithms.psfDeterminer WARNING: You only have 1 eigen images (you asked for 2): reducing number of eigen components\n",
      "\n",
      "lsst1532+1\n",
      "FAILURE\n",
      "processCcd.isr: Performing ISR on sensor {'basename': 'lsst1532+13_G_03', 'object': 'lsst1532+1', 'visit': 44, 'filter': 'SDSSG', 'date': '2016-05-04T07:36:32.876', 'ccd': 0, 'expTime': 30.0003}\n",
      "\n",
      "lsst1316+2\n",
      "FAILURE\n",
      "processCcd.calibrate.astrometry.solver WARNING: Did not get an astrometric solution from Astrometry.net\n",
      "\n",
      "hr3974\n",
      "FAILURE\n",
      "processCcd.charImage.measurePsf: Measuring PSF\n",
      "\n",
      "lsst1316+2\n",
      "FAILURE\n",
      "meas.algorithms.psfDeterminer WARNING: You only have 1 eigen images (you asked for 2): reducing number of eigen components\n",
      "\n",
      "lsst1316+2\n",
      "FAILURE\n",
      "meas.algorithms.psfDeterminer WARNING: You only have 1 eigen images (you asked for 2): reducing number of eigen components\n",
      "\n",
      "lsst1316+2\n",
      "FAILURE\n",
      "processCcd.calibrate.astrometry.solver WARNING: Did not get an astrometric solution from Astrometry.net\n",
      "\n",
      "lsst1532+1\n",
      "FAILURE\n",
      "processCcd.calibrate.astrometry.solver WARNING: Did not get an astrometric solution from Astrometry.net\n",
      "\n",
      "lsst1532+1\n",
      "FAILURE\n",
      "processCcd.calibrate.astrometry.solver WARNING: Did not get an astrometric solution from Astrometry.net\n",
      "\n",
      "lsst1316+2\n",
      "FAILURE\n",
      "processCcd.calibrate.astrometry.solver WARNING: Did not get an astrometric solution from Astrometry.net\n",
      "\n",
      "lsst1316+2\n",
      "FAILURE\n",
      "meas.algorithms.psfDeterminer WARNING: You only have 1 eigen images (you asked for 2): reducing number of eigen components\n",
      "\n",
      "hr3974\n",
      "FAILURE\n",
      "processCcd.calibrate.astrometry.solver WARNING: Did not get an astrometric solution from Astrometry.net\n",
      "\n",
      "hr3974\n",
      "FAILURE\n",
      "meas.algorithms.psfDeterminer WARNING: You only have 1 eigen images (you asked for 2): reducing number of eigen components\n",
      "\n",
      "lsst1532+1\n",
      "FAILURE\n",
      "processCcd.isr: Performing ISR on sensor {'basename': 'lsst1532+13_12', 'object': 'lsst1532+1', 'visit': 41, 'filter': 'SDSSI', 'date': '2016-05-04T06:23:19.015', 'ccd': 0, 'expTime': 30.0003}\n",
      "\n",
      "lsst1532+1\n",
      "FAILURE\n",
      "processCcd.isr: Performing ISR on sensor {'basename': 'lsst1532+13_01', 'object': 'lsst1532+1', 'visit': 30, 'filter': 'OPEN', 'date': '2016-05-04T05:49:23.461', 'ccd': 0, 'expTime': 30.0003}\n",
      "\n",
      "28\n"
     ]
    }
   ],
   "source": [
    "# for key in reparsed.keys():\n",
    "#     if 'LINE_ABOVE_FATAL' in reparsed[key]:\n",
    "#         print key + '-->\\n' + reparsed[key]['LINE_ABOVE_FATAL'] + '\\n\\n'\n",
    "\n",
    "# ~['ASTROMETRY', 'ALL_OUTPUT', 'basename', 'object', 'visit', 'filter', 'PASSED', 'date', 'PHOTOMETRY', 'expTime']\n",
    "\n",
    "# for id in reparsed.keys()[4:5]:\n",
    "#     print reparsed[id]['expTime']\n",
    "print len(info)\n",
    "\n",
    "\n",
    "n_sky = 0\n",
    "for id in info.keys():\n",
    "#     if reparsed[id]['PASSED'] == False:\n",
    "    if info[id]['object'] == 'BIAS': continue\n",
    "    if info[id]['object'] == 'DOME_FLAT': continue\n",
    "\n",
    "    n_sky += 1\n",
    "    if info[id]['PASSED'] == False:\n",
    "        print info[id]['object'] + '\\n' + info[id]['OUTCOME'] +'\\n' +  info[id]['LINE_ABOVE_FATAL'] + '\\n'\n",
    "#     else:\n",
    "#         print reparsed[id]['object'] + '\\n' + reparsed[id]['OUTCOME'] + '\\n'\n",
    "print n_sky"
   ]
  },
  {
   "cell_type": "code",
   "execution_count": 15,
   "metadata": {
    "collapsed": false
   },
   "outputs": [
    {
     "name": "stdout",
     "output_type": "stream",
     "text": [
      "basename': 'lsst1532+13_09', 'object': 'lsst1532+1', 'visit': 38, 'filter': 'SDSSI', 'date': '2016-05-04T06:18:24.115', 'ccd': 0, 'expTime': 30.0003\n",
      "basename': 'dit1_01', 'object': 'lsst1316+2', 'visit': 1, 'filter': 'SDSSG', 'date': '2016-05-04T03:45:20.556', 'ccd': 0, 'expTime': 300.0003\n",
      "basename': 'lsst1532+13_07', 'object': 'lsst1532+1', 'visit': 36, 'filter': 'SDSSI', 'date': '2016-05-04T06:15:13.060', 'ccd': 0, 'expTime': 30.0002\n",
      "basename': 'lsst1532+13_06', 'object': 'lsst1532+1', 'visit': 35, 'filter': 'SDSSI', 'date': '2016-05-04T06:13:52.432', 'ccd': 0, 'expTime': 30.0002\n",
      "basename': 'lsst1532+13_10', 'object': 'lsst1532+1', 'visit': 39, 'filter': 'SDSSI', 'date': '2016-05-04T06:20:55.421', 'ccd': 0, 'expTime': 30.0003\n",
      "basename': 'lsst1532+13_11', 'object': 'lsst1532+1', 'visit': 40, 'filter': 'SDSSI', 'date': '2016-05-04T06:22:03.162', 'ccd': 0, 'expTime': 30.0002\n",
      "basename': 'lsst1532+13_08', 'object': 'lsst1532+1', 'visit': 37, 'filter': 'SDSSI', 'date': '2016-05-04T06:17:05.745', 'ccd': 0, 'expTime': 30.0003\n"
     ]
    }
   ],
   "source": [
    "def PrintSuccesses(info):\n",
    "    for id in info.keys():\n",
    "        if info[id]['PASSED'] == True:\n",
    "            print id\n",
    "#         print info[id]['object'] + '\\n' + info[id]['OUTCOME'] +'\\n' +  info[id]['LINE_ABOVE_FATAL'] + '\\n'\n",
    "        \n",
    "def PrintFailures(info):\n",
    "    for id in info.keys():\n",
    "        if info[id]['PASSED'] == False:\n",
    "            print\n",
    "#         print info[id]['object'] + '\\n' + info[id]['OUTCOME'] +'\\n' +  info[id]['LINE_ABOVE_FATAL'] + '\\n'\n",
    "\n",
    "def ds9_one_ccd(rerun, visit, product, ccdname, binning=8, date='2015-11-25',filter='r', showMaskPlanes=False):\n",
    "    import lsst.daf.persistence as dafPersist\n",
    "    import lsst.afw.display.ds9 as ds9\n",
    "    import lsst.afw.cameraGeom.utils as camGeomUtils\n",
    "\n",
    "    butler = dafPersist.Butler('/nfs/lsst2/photocalData/data/decam/rerun/'+str(rerun))\n",
    "    camera = butler.get(\"camera\")\n",
    "\n",
    "    exp = butler.get(product, visit=visit,date=date, filter=filter, ccdnum=getCCDNumFromName(ccdname), immediate=True)\n",
    "    \n",
    "    if showMaskPlanes:\n",
    "        image = exp\n",
    "    else:\n",
    "        image = exp.getMaskedImage().getImage()\n",
    "    \n",
    "    title = 'rerun %s, visit %s, %s, %s(%s)'%(rerun, visit, product, ccdname, getCCDNumFromName(ccdname))\n",
    "    ds9.mtv(image, frame=GetNextFrame(), title=title)\n",
    "\n",
    "\n",
    "PrintSuccesses(info)"
   ]
  },
  {
   "cell_type": "code",
   "execution_count": 24,
   "metadata": {
    "collapsed": false
   },
   "outputs": [
    {
     "data": {
      "text/plain": [
       "<module 'lsst.afw.display.ds9' from '/home/mfisherlevine/lsst/afw/python/lsst/afw/display/ds9.pyc'>"
      ]
     },
     "execution_count": 24,
     "metadata": {},
     "output_type": "execute_result"
    }
   ],
   "source": [
    "butler = dafPersist.Butler('/nfs/lsst2/photocalData/data/monocam/attempt2/rerun/test/')\n",
    "camera = butler.get(\"camera\")\n",
    "\n",
    "date = '2016-05-04'\n",
    "visit = 1\n",
    "product = 'calexp'\n",
    "# product = 'postISRCCD'\n",
    "# product = 'raw'\n",
    "# filter = 'r'\n",
    "\n",
    "\n",
    "im = butler.get(product, visit=visit)#, ccdnum=ccdnum)\n",
    "\n",
    "ds9.mtv(im.getMaskedImage().getImage(), frame=GetNextFrame(), title='%s,%s'%(visit,product))\n"
   ]
  },
  {
   "cell_type": "code",
   "execution_count": null,
   "metadata": {
    "collapsed": false
   },
   "outputs": [],
   "source": [
    "# for key in info.keys():\n",
    "#     print key\n",
    "#     for line in info[key]:\n",
    "#         print line\n",
    "#     break\n",
    "\n",
    "    "
   ]
  },
  {
   "cell_type": "code",
   "execution_count": null,
   "metadata": {
    "collapsed": true
   },
   "outputs": [],
   "source": [
    "dataId = dict(visit=496547, ccdnum=28)\n",
    "\n",
    "src = butler.get(\"icSrc\", dataId, immediate=True)\n",
    "calexp = butler.get(\"calexp\", dataId)\n",
    "if True:\n",
    "    ds9.mtv(calexp.getMaskedImage().getImage(), frame=62)\n",
    "else:\n",
    "    ds9.erase()\n",
    "with ds9.Buffering():\n",
    "    i = 1\n",
    "    for s in src:\n",
    "        if s.getFootprint().getNpix() > 1:\n",
    "            print i\n",
    "            i += 1\n",
    "            ellip = s.getShape()\n",
    "            ellip = afwEllipse.Axes(ellip)\n",
    "\n",
    "            if ellip.getDeterminantRadius() > 10:\n",
    "                ds9.dot('o', *s.getCentroid(), size=10, frame=62)\n",
    "                print s.getCentroid()"
   ]
  }
 ],
 "metadata": {
  "kernelspec": {
   "display_name": "Python 2",
   "language": "python",
   "name": "python2"
  },
  "language_info": {
   "codemirror_mode": {
    "name": "ipython",
    "version": 2
   },
   "file_extension": ".py",
   "mimetype": "text/x-python",
   "name": "python",
   "nbconvert_exporter": "python",
   "pygments_lexer": "ipython2",
   "version": "2.7.11"
  }
 },
 "nbformat": 4,
 "nbformat_minor": 0
}
