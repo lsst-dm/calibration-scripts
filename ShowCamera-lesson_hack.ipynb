{
 "cells": [
  {
   "cell_type": "code",
   "execution_count": 1,
   "metadata": {
    "collapsed": false
   },
   "outputs": [],
   "source": [
    "import os\n",
    "import numpy as np\n",
    "import lsst.daf.persistence as dafPersist\n",
    "import lsst.afw.display.ds9 as ds9\n",
    "import lsst.afw.geom as afwGeom\n",
    "import lsst.afw.geom.ellipses as afwEllipse\n",
    "import lsst.afw.cameraGeom as cameraGeom\n",
    "import lsst.obs.decam as obs_decam\n",
    "import lsst.afw.image as afwImage"
   ]
  },
  {
   "cell_type": "code",
   "execution_count": 2,
   "metadata": {
    "collapsed": true
   },
   "outputs": [],
   "source": [
    "%matplotlib inline\n",
    "import matplotlib.pyplot as plt\n",
    "plt.rcParams['figure.figsize'] = (13, 8) if False else (10, 6)\n"
   ]
  },
  {
   "cell_type": "code",
   "execution_count": 3,
   "metadata": {
    "collapsed": false,
    "scrolled": true
   },
   "outputs": [],
   "source": [
    "butler = dafPersist.Butler('/nfs/lsst2/photocalData/data/decam/rerun/3')"
   ]
  },
  {
   "cell_type": "code",
   "execution_count": null,
   "metadata": {
    "collapsed": true
   },
   "outputs": [],
   "source": []
  },
  {
   "cell_type": "code",
   "execution_count": 4,
   "metadata": {
    "collapsed": false,
    "scrolled": false
   },
   "outputs": [
    {
     "name": "stdout",
     "output_type": "stream",
     "text": [
      "Reading 2: \n",
      "  File \"src/fits.cc\", line 1067, in lsst::afw::fits::Fits::Fits(const string&, const string&, int)\n",
      "    cfitsio error: could not open the named file (104) : Opening file '/nfs/lsst2/photocalData/data/decam/rerun/3/0496577/calexp/calexp-0496577_02.fits' with mode 'r' {0}\n",
      "lsst::afw::fits::FitsError: 'cfitsio error: could not open the named file (104) : Opening file '/nfs/lsst2/photocalData/data/decam/rerun/3/0496577/calexp/calexp-0496577_02.fits' with mode 'r''\n",
      "\n",
      "Reading 61: \n",
      "  File \"src/fits.cc\", line 1067, in lsst::afw::fits::Fits::Fits(const string&, const string&, int)\n",
      "    cfitsio error: could not open the named file (104) : Opening file '/nfs/lsst2/photocalData/data/decam/rerun/3/0496577/calexp/calexp-0496577_61.fits' with mode 'r' {0}\n",
      "lsst::afw::fits::FitsError: 'cfitsio error: could not open the named file (104) : Opening file '/nfs/lsst2/photocalData/data/decam/rerun/3/0496577/calexp/calexp-0496577_61.fits' with mode 'r''\n",
      "\n"
     ]
    }
   ],
   "source": [
    "import lsst.afw.display.ds9 as display\n",
    "import lsst.afw.cameraGeom.utils as camGeomUtils\n",
    "camGeomUtils = reload(camGeomUtils)\n",
    "\n",
    "camera = butler.get(\"camera\")\n",
    "frame, visit = 1, 496577\n",
    "# frame, visit = 1, 496473\n",
    "\n",
    "# frame, visit = 1, 496372\n",
    "\n",
    "product = 'calexp'\n",
    "# product = 'postISRCCD'\n",
    "# product = 'raw'\n",
    "\n",
    "date = '2015-11-25'\n",
    "filter = 'r'\n",
    "\n",
    "# imageSource = camGeomUtils.ButlerImage(butler, product, visit=visit, verbose=True)\n",
    "imageSource = camGeomUtils.ButlerImage(butler, product, visit=visit, verbose=True, date=date, filter=filter)\n",
    "\n",
    "try:\n",
    "    mos\n",
    "except NameError:\n",
    "    mos = dict()\n",
    "\n",
    "mos['496577'] = camGeomUtils.showCamera(camera, imageSource=imageSource, title=str(visit), binSize=8)#,\n",
    "#                                      frame=frame)#, ccdKey=\"ccdnum\")"
   ]
  },
  {
   "cell_type": "code",
   "execution_count": null,
   "metadata": {
    "collapsed": false
   },
   "outputs": [],
   "source": [
    "dataId = dict(visit=496495, ccdnum=18)\n",
    "src = butler.get(\"src\", dataId, immediate=True)\n",
    "calexp = butler.get(\"calexp\", dataId)\n",
    "if False:\n",
    "    ds9.mtv(calexp)\n",
    "else:\n",
    "    ds9.erase()\n",
    "with ds9.Buffering():\n",
    "    for s in src:\n",
    "        if s.getFootprint().getNpix() > 1000:\n",
    "            ellip = s.getShape()\n",
    "            ellip = afwEllipse.Axes(ellip)\n",
    "\n",
    "            if ellip.getDeterminantRadius() > 10:\n",
    "                ds9.dot('o', *s.getCentroid(), size=10)\n",
    "                print s.getCentroid()"
   ]
  },
  {
   "cell_type": "code",
   "execution_count": null,
   "metadata": {
    "collapsed": false
   },
   "outputs": [],
   "source": [
    "nid = dict([(_.getName(), _.getId()) for _ in camera])\n",
    "print nid['S16']"
   ]
  },
  {
   "cell_type": "code",
   "execution_count": null,
   "metadata": {
    "collapsed": false
   },
   "outputs": [],
   "source": [
    "import lsst.afw.image as afwImage\n",
    "import lsst.afw.display as afwDisplay\n",
    "import numpy as np\n",
    "\n",
    "\n",
    "\n",
    "data = np.zeros((10,10), dtype=np.float32)\n",
    "img = afwImage.ImageF(data)\n",
    "afwDisplay.ds9.mtv(img,frame=0)"
   ]
  },
  {
   "cell_type": "code",
   "execution_count": null,
   "metadata": {
    "collapsed": false
   },
   "outputs": [],
   "source": [
    "ds9.mtv(mos[496577])"
   ]
  },
  {
   "cell_type": "code",
   "execution_count": null,
   "metadata": {
    "collapsed": true
   },
   "outputs": [],
   "source": [
    "ds9.mtv(mos[496372], frame=1)"
   ]
  },
  {
   "cell_type": "code",
   "execution_count": null,
   "metadata": {
    "collapsed": true
   },
   "outputs": [],
   "source": [
    "ds9.mtv(mos['496577-3'], frame=1)"
   ]
  },
  {
   "cell_type": "code",
   "execution_count": null,
   "metadata": {
    "collapsed": true
   },
   "outputs": [],
   "source": [
    "ds9.mtv(mos['496577-4'], frame=2)"
   ]
  },
  {
   "cell_type": "code",
   "execution_count": null,
   "metadata": {
    "collapsed": true
   },
   "outputs": [],
   "source": [
    "ds9.mtv(mos['496577-5'], frame=3)"
   ]
  },
  {
   "cell_type": "code",
   "execution_count": null,
   "metadata": {
    "collapsed": true
   },
   "outputs": [],
   "source": [
    "ds9.mtv(mos['496577-6'], frame=4)"
   ]
  },
  {
   "cell_type": "code",
   "execution_count": 5,
   "metadata": {
    "collapsed": false
   },
   "outputs": [],
   "source": [
    "ds9.mtv(mos['496473-1'], frame=11)"
   ]
  },
  {
   "cell_type": "code",
   "execution_count": 18,
   "metadata": {
    "collapsed": false
   },
   "outputs": [],
   "source": [
    "import lsst.afw.display.ds9 as display\n",
    "import lsst.afw.cameraGeom.utils as camGeomUtils\n",
    "camGeomUtils = reload(camGeomUtils)\n",
    "\n",
    "camera = butler.get(\"camera\")\n",
    "# frame, visit = 1, 496473\n",
    "frame, visit = 1, 496577\n",
    "\n",
    "# product = 'calexp'\n",
    "product = 'calexp'\n",
    "# product = 'raw'\n",
    "\n",
    "date = '2015-11-26'\n",
    "filter = 'r'\n",
    "\n",
    "# imageSource = camGeomUtils.ButlerImage(butler, product, visit=visit, verbose=True)\n",
    "# imageSource = camGeomUtils.ButlerImage(butler, product, visit=visit, verbose=True, date=date, filter=filter)\n",
    "\n",
    "im = butler.get(product, visit=visit, ccdnum=20)\n",
    "\n",
    "ds9.mtv(im, frame=4)\n",
    "# imageSource.\n",
    "\n",
    "# try:\n",
    "#     mos\n",
    "# except NameError:\n",
    "#     mos = dict()\n",
    "\n",
    "# mos['496577-7'] = camGeomUtils.showCamera(camera, imageSource=imageSource, title=str(visit), binSize=8)#,\n",
    "# #                                      frame=frame)#, ccdKey=\"ccdnum\")"
   ]
  },
  {
   "cell_type": "code",
   "execution_count": null,
   "metadata": {
    "collapsed": false
   },
   "outputs": [],
   "source": [
    "%matplotlib inline\n",
    "print mos['496473-1'].getArray()"
   ]
  },
  {
   "cell_type": "code",
   "execution_count": null,
   "metadata": {
    "collapsed": false
   },
   "outputs": [],
   "source": [
    "plt.imshow(mos['496473-1'].getArray(),cmap = 'gray', figsize=(10,10))"
   ]
  },
  {
   "cell_type": "code",
   "execution_count": null,
   "metadata": {
    "collapsed": false
   },
   "outputs": [],
   "source": [
    "ds9.pan(420,1779, frame=5)"
   ]
  },
  {
   "cell_type": "code",
   "execution_count": null,
   "metadata": {
    "collapsed": false
   },
   "outputs": [],
   "source": [
    "data = np.zeros((10,10), dtype = np.float32)\n",
    "img = afwImage.ImageF(data)\n",
    "ds9.mtv(img,frame=6)"
   ]
  },
  {
   "cell_type": "code",
   "execution_count": 11,
   "metadata": {
    "collapsed": false
   },
   "outputs": [
    {
     "name": "stdout",
     "output_type": "stream",
     "text": [
      "hello\n"
     ]
    }
   ],
   "source": [
    "print 'hello'"
   ]
  },
  {
   "cell_type": "code",
   "execution_count": 8,
   "metadata": {
    "collapsed": false
   },
   "outputs": [],
   "source": [
    "ds9.mtv(mos['496577'], frame=0)"
   ]
  },
  {
   "cell_type": "code",
   "execution_count": 9,
   "metadata": {
    "collapsed": false
   },
   "outputs": [
    {
     "name": "stdout",
     "output_type": "stream",
     "text": [
      "<lsst.afw.image.imageLib.ImageF; proxy of <Swig Object of type 'boost::shared_ptr< lsst::afw::image::Image< float > > *' at 0x7f21e3405840> >\n"
     ]
    }
   ],
   "source": [
    "print mos['496577']\n"
   ]
  },
  {
   "cell_type": "code",
   "execution_count": 10,
   "metadata": {
    "collapsed": true
   },
   "outputs": [],
   "source": [
    "filename = '/nfs/lsst2/photocalData/data/temp/fitstest.fits'\n",
    "mos['496577'].writeFits(filename)\n",
    "loaded_image = afwImage.ImageF(filename)\n"
   ]
  },
  {
   "cell_type": "code",
   "execution_count": 16,
   "metadata": {
    "collapsed": false
   },
   "outputs": [],
   "source": [
    "ds9.mtv(loaded_image, frame = 1)"
   ]
  },
  {
   "cell_type": "code",
   "execution_count": null,
   "metadata": {
    "collapsed": true
   },
   "outputs": [],
   "source": []
  }
 ],
 "metadata": {
  "kernelspec": {
   "display_name": "Python 2",
   "language": "python",
   "name": "python2"
  },
  "language_info": {
   "codemirror_mode": {
    "name": "ipython",
    "version": 2
   },
   "file_extension": ".py",
   "mimetype": "text/x-python",
   "name": "python",
   "nbconvert_exporter": "python",
   "pygments_lexer": "ipython2",
   "version": "2.7.11"
  }
 },
 "nbformat": 4,
 "nbformat_minor": 0
}
